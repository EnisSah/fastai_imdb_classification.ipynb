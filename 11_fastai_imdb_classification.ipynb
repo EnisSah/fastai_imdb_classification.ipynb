{
  "nbformat": 4,
  "nbformat_minor": 0,
  "metadata": {
    "kernelspec": {
      "display_name": "Python 3",
      "language": "python",
      "name": "python3"
    },
    "language_info": {
      "codemirror_mode": {
        "name": "ipython",
        "version": 3
      },
      "file_extension": ".py",
      "mimetype": "text/x-python",
      "name": "python",
      "nbconvert_exporter": "python",
      "pygments_lexer": "ipython3",
      "version": "3.6.5"
    },
    "colab": {
      "name": "11_fastai_imdb_classification.ipynb",
      "provenance": [],
      "collapsed_sections": [],
      "include_colab_link": true
    },
    "accelerator": "GPU"
  },
  "cells": [
    {
      "cell_type": "markdown",
      "metadata": {
        "id": "view-in-github",
        "colab_type": "text"
      },
      "source": [
        "<a href=\"https://colab.research.google.com/github/EnisSah/fastai_imdb_classification.ipynb/blob/master/11_fastai_imdb_classification.ipynb\" target=\"_parent\"><img src=\"https://colab.research.google.com/assets/colab-badge.svg\" alt=\"Open In Colab\"/></a>"
      ]
    },
    {
      "cell_type": "code",
      "metadata": {
        "hide_input": true,
        "id": "gQUFkOEt5Bct",
        "colab_type": "code",
        "colab": {}
      },
      "source": [
        "from fastai.basics import *\n",
        "from fastai.gen_doc.nbdoc import *"
      ],
      "execution_count": 3,
      "outputs": []
    },
    {
      "cell_type": "code",
      "metadata": {
        "id": "Wy13E4Z95BdV",
        "colab_type": "code",
        "colab": {
          "base_uri": "https://localhost:8080/",
          "height": 35
        },
        "outputId": "6cd7bf2f-1262-4b2f-9fac-c6983b0d0448"
      },
      "source": [
        "import fastai\n",
        "from fastai.version import __version__\n",
        "print(__version__)"
      ],
      "execution_count": 4,
      "outputs": [
        {
          "output_type": "stream",
          "text": [
            "1.0.61\n"
          ],
          "name": "stdout"
        }
      ]
    },
    {
      "cell_type": "markdown",
      "metadata": {
        "id": "MkD_JoEC5Bdc",
        "colab_type": "text"
      },
      "source": [
        "## Text"
      ]
    },
    {
      "cell_type": "markdown",
      "metadata": {
        "id": "4nWhPZ2B5Bdd",
        "colab_type": "text"
      },
      "source": [
        "Next application is text, so let's start by importing everything we'll need."
      ]
    },
    {
      "cell_type": "code",
      "metadata": {
        "id": "gVlon61S5Bde",
        "colab_type": "code",
        "colab": {}
      },
      "source": [
        "from fastai.text import *"
      ],
      "execution_count": 5,
      "outputs": []
    },
    {
      "cell_type": "markdown",
      "metadata": {
        "id": "tLgrItHW5Bdh",
        "colab_type": "text"
      },
      "source": [
        "### Language modelling"
      ]
    },
    {
      "cell_type": "markdown",
      "metadata": {
        "id": "EZ4fzVpX5Bdh",
        "colab_type": "text"
      },
      "source": [
        "First we'll fine-tune a pretrained language model on our subset of imdb."
      ]
    },
    {
      "cell_type": "code",
      "metadata": {
        "id": "wEOdZOrD5Bdi",
        "colab_type": "code",
        "colab": {
          "base_uri": "https://localhost:8080/",
          "height": 35
        },
        "outputId": "57d76ac1-90d1-418a-ec79-3e6e297a0e8f"
      },
      "source": [
        "imdb = untar_data(URLs.IMDB_SAMPLE)"
      ],
      "execution_count": 6,
      "outputs": [
        {
          "output_type": "stream",
          "text": [
            "Downloading http://files.fast.ai/data/examples/imdb_sample.tgz\n"
          ],
          "name": "stdout"
        },
        {
          "output_type": "display_data",
          "data": {
            "text/html": [
              ""
            ],
            "text/plain": [
              "<IPython.core.display.HTML object>"
            ]
          },
          "metadata": {
            "tags": []
          }
        }
      ]
    },
    {
      "cell_type": "code",
      "metadata": {
        "id": "H8c67OHM5Bdm",
        "colab_type": "code",
        "colab": {
          "base_uri": "https://localhost:8080/",
          "height": 17
        },
        "outputId": "919a42a5-1380-49c7-844c-301f087afc60"
      },
      "source": [
        "data_lm = (TextList.from_csv(imdb, 'texts.csv', cols='text')\n",
        "                   .split_by_rand_pct()\n",
        "                   .label_for_lm()  # Language model does not need labels\n",
        "                   .databunch())\n",
        "data_lm.save()"
      ],
      "execution_count": 7,
      "outputs": [
        {
          "output_type": "display_data",
          "data": {
            "text/html": [
              ""
            ],
            "text/plain": [
              "<IPython.core.display.HTML object>"
            ]
          },
          "metadata": {
            "tags": []
          }
        },
        {
          "output_type": "display_data",
          "data": {
            "text/html": [
              ""
            ],
            "text/plain": [
              "<IPython.core.display.HTML object>"
            ]
          },
          "metadata": {
            "tags": []
          }
        }
      ]
    },
    {
      "cell_type": "markdown",
      "metadata": {
        "id": "3ZdOqFBc5Bdq",
        "colab_type": "text"
      },
      "source": [
        "`data.show_batch()` will work here as well. For a language model, it shows us the beginning of each sequence of text along the batch dimension (the target being to guess the next word)."
      ]
    },
    {
      "cell_type": "code",
      "metadata": {
        "id": "rNt14Nvd5Bdr",
        "colab_type": "code",
        "colab": {
          "base_uri": "https://localhost:8080/",
          "height": 410
        },
        "outputId": "6791c52e-5db6-4eda-ab7c-fc62697b703e"
      },
      "source": [
        "data_lm.show_batch()"
      ],
      "execution_count": 8,
      "outputs": [
        {
          "output_type": "stream",
          "text": [
            "/usr/local/lib/python3.6/dist-packages/fastai/text/data.py:339: UserWarning: This overload of nonzero is deprecated:\n",
            "\tnonzero()\n",
            "Consider using one of the following signatures instead:\n",
            "\tnonzero(*, bool as_tuple) (Triggered internally at  /pytorch/torch/csrc/utils/python_arg_parser.cpp:766.)\n",
            "  idx_min = (t != self.pad_idx).nonzero().min()\n"
          ],
          "name": "stderr"
        },
        {
          "output_type": "display_data",
          "data": {
            "text/html": [
              "<table border=\"1\" class=\"dataframe\">\n",
              "  <thead>\n",
              "    <tr style=\"text-align: right;\">\n",
              "      <th>idx</th>\n",
              "      <th>text</th>\n",
              "    </tr>\n",
              "  </thead>\n",
              "  <tbody>\n",
              "    <tr>\n",
              "      <td>0</td>\n",
              "      <td>cast does an excellent job with the script . \\n \\n  xxmaj but it is hard to watch , because there is no good end to a situation like the one presented . xxmaj it is now xxunk to blame the xxmaj british for setting xxmaj hindus and xxmaj muslims against each other , and then xxunk xxunk them into two countries . xxmaj there is some merit in</td>\n",
              "    </tr>\n",
              "    <tr>\n",
              "      <td>1</td>\n",
              "      <td>even turn in a performance , all he proved was , he knows how to use four letter words ! xxmaj that 's what h won the award for ! xxmaj take away the language and i bet he was almost playing himself ! i liked \" xxmaj xxunk xxmaj park \" , i really did , but why 7 nominations ? xxmaj and how on xxmaj earth could they</td>\n",
              "    </tr>\n",
              "    <tr>\n",
              "      <td>2</td>\n",
              "      <td>gone to is interrupted by a crisis in which all three xxmaj enterprise crew members find themselves unexpectedly xxunk into different xxunk of the planet 's past . xxmaj kirk finds himself in a time period resembling 17th xxmaj century xxmaj england , while xxmaj xxunk and mccoy are xxunk in a xxunk , frozen waste . \\n \\n  xxmaj the xxunk between the two stories , and the</td>\n",
              "    </tr>\n",
              "    <tr>\n",
              "      <td>3</td>\n",
              "      <td>of xxmaj mankind \" . xxmaj he encounters a curate xxunk with the xxmaj victorian xxunk of a much too precious and xxunk personality . xxmaj they eventually find themselves on the very edge of a xxmaj xxunk nest , where they discover an awful fact : the xxmaj martians are shown to be vampires who xxunk their prey alive in a very effective scene . xxmaj wells adds that</td>\n",
              "    </tr>\n",
              "    <tr>\n",
              "      <td>4</td>\n",
              "      <td>be the end of the xxmaj rebel xxmaj alliance . xxmaj both xxmaj vader and the xxmaj emperor are xxunk because of the xxunk of the new xxmaj death xxmaj star , and they need to kill many of their xxunk to have the project made in xxunk . \\n \\n  xxup r2 and xxmaj c3po are inside xxmaj jabba 's palace to send a message from xxmaj luke</td>\n",
              "    </tr>\n",
              "  </tbody>\n",
              "</table>"
            ],
            "text/plain": [
              "<IPython.core.display.HTML object>"
            ]
          },
          "metadata": {
            "tags": []
          }
        }
      ]
    },
    {
      "cell_type": "code",
      "metadata": {
        "id": "g0my1gZE5Bdv",
        "colab_type": "code",
        "colab": {}
      },
      "source": [
        "# Special tokens\n",
        "# xxbos: Begining of a sentence\n",
        "# xxfld: Represent separate parts of a document like title, summary etc., each one will get a separate field and so they will get numbered (e.g. xxfld 1, xxfld 2).\n",
        "# xxup: If there's something in all caps, it gets lower cased and a token called xxup will get added to it. Words that are fully capitalized, such as “I AM SHOUTING”, are tokenized as “xxup i xxup am xxup shouting“\n",
        "# xxunk: token used instead of an uncommon word.\n",
        "# xxmaj: token indicates that there is capitalization of the word. “The” will be tokenized as “xxmaj the“.\n",
        "# xxrep: token indicates repeated word, if you have 29 ! in a row, (i.e. xxrep 29 !)."
      ],
      "execution_count": 9,
      "outputs": []
    },
    {
      "cell_type": "code",
      "metadata": {
        "id": "IL0wD2C45Bdz",
        "colab_type": "code",
        "colab": {
          "base_uri": "https://localhost:8080/",
          "height": 364
        },
        "outputId": "ec8cf003-7d78-4076-84e7-6ded510b1d14"
      },
      "source": [
        "data_lm.vocab.itos[:20]"
      ],
      "execution_count": 10,
      "outputs": [
        {
          "output_type": "execute_result",
          "data": {
            "text/plain": [
              "['xxunk',\n",
              " 'xxpad',\n",
              " 'xxbos',\n",
              " 'xxeos',\n",
              " 'xxfld',\n",
              " 'xxmaj',\n",
              " 'xxup',\n",
              " 'xxrep',\n",
              " 'xxwrep',\n",
              " 'the',\n",
              " ',',\n",
              " '.',\n",
              " 'and',\n",
              " 'a',\n",
              " 'of',\n",
              " 'to',\n",
              " 'is',\n",
              " 'it',\n",
              " 'in',\n",
              " 'i']"
            ]
          },
          "metadata": {
            "tags": []
          },
          "execution_count": 10
        }
      ]
    },
    {
      "cell_type": "markdown",
      "metadata": {
        "id": "2cXqz2Di5Bd2",
        "colab_type": "text"
      },
      "source": [
        "#### Numericalization\n",
        "Finally it is easier for machine to deal with the numbers so replace the tokens with the location of the token in the vocab:"
      ]
    },
    {
      "cell_type": "code",
      "metadata": {
        "id": "dx988QLO5Bd3",
        "colab_type": "code",
        "colab": {
          "base_uri": "https://localhost:8080/",
          "height": 35
        },
        "outputId": "e35fbbe2-7486-433b-eec6-0800852b720b"
      },
      "source": [
        "data_lm.train_ds[0][0].data[:10]"
      ],
      "execution_count": 11,
      "outputs": [
        {
          "output_type": "execute_result",
          "data": {
            "text/plain": [
              "array([  2,   5,  21,  16,  13, 606,  89,  24, 117,  32])"
            ]
          },
          "metadata": {
            "tags": []
          },
          "execution_count": 11
        }
      ]
    },
    {
      "cell_type": "markdown",
      "metadata": {
        "id": "yzec63Tl5Bd6",
        "colab_type": "text"
      },
      "source": [
        "The default vocab size is set to 60,000 words and min count for a word to be added to vocab is 2, to avoid getting the weight matrix huge."
      ]
    },
    {
      "cell_type": "markdown",
      "metadata": {
        "id": "HNTCb9P85Bd6",
        "colab_type": "text"
      },
      "source": [
        "Now let's define a language model learner. drop_mult - a hyper-parameter ,used for regularization, sets the amount of dropout. If the model is over-fitting increase it, if under-fitting, you can decrease the number."
      ]
    },
    {
      "cell_type": "code",
      "metadata": {
        "id": "jKydgcl95Bd7",
        "colab_type": "code",
        "colab": {
          "base_uri": "https://localhost:8080/",
          "height": 189
        },
        "outputId": "0a7952fe-efe1-414e-bf74-4feeb22fc3c1"
      },
      "source": [
        "learn = language_model_learner(data_lm, AWD_LSTM)\n",
        "learn.fit_one_cycle(4, 1e-2)\n",
        "learn.save('mini_train_lm')\n",
        "learn.save_encoder('mini_train_encoder')"
      ],
      "execution_count": 12,
      "outputs": [
        {
          "output_type": "stream",
          "text": [
            "Downloading https://s3.amazonaws.com/fast-ai-modelzoo/wt103-fwd.tgz\n"
          ],
          "name": "stdout"
        },
        {
          "output_type": "display_data",
          "data": {
            "text/html": [
              ""
            ],
            "text/plain": [
              "<IPython.core.display.HTML object>"
            ]
          },
          "metadata": {
            "tags": []
          }
        },
        {
          "output_type": "display_data",
          "data": {
            "text/html": [
              "<table border=\"1\" class=\"dataframe\">\n",
              "  <thead>\n",
              "    <tr style=\"text-align: left;\">\n",
              "      <th>epoch</th>\n",
              "      <th>train_loss</th>\n",
              "      <th>valid_loss</th>\n",
              "      <th>accuracy</th>\n",
              "      <th>time</th>\n",
              "    </tr>\n",
              "  </thead>\n",
              "  <tbody>\n",
              "    <tr>\n",
              "      <td>0</td>\n",
              "      <td>4.387669</td>\n",
              "      <td>3.790863</td>\n",
              "      <td>0.286205</td>\n",
              "      <td>00:09</td>\n",
              "    </tr>\n",
              "    <tr>\n",
              "      <td>1</td>\n",
              "      <td>4.140239</td>\n",
              "      <td>3.730836</td>\n",
              "      <td>0.290744</td>\n",
              "      <td>00:09</td>\n",
              "    </tr>\n",
              "    <tr>\n",
              "      <td>2</td>\n",
              "      <td>3.925442</td>\n",
              "      <td>3.716624</td>\n",
              "      <td>0.292366</td>\n",
              "      <td>00:09</td>\n",
              "    </tr>\n",
              "    <tr>\n",
              "      <td>3</td>\n",
              "      <td>3.764063</td>\n",
              "      <td>3.711184</td>\n",
              "      <td>0.292887</td>\n",
              "      <td>00:10</td>\n",
              "    </tr>\n",
              "  </tbody>\n",
              "</table>"
            ],
            "text/plain": [
              "<IPython.core.display.HTML object>"
            ]
          },
          "metadata": {
            "tags": []
          }
        }
      ]
    },
    {
      "cell_type": "markdown",
      "metadata": {
        "id": "EesR96G55Bd-",
        "colab_type": "text"
      },
      "source": [
        "Then we can have a look at the results. It shows a certain amount of words (default 20), then the next 20 target words and the ones that were predicted."
      ]
    },
    {
      "cell_type": "code",
      "metadata": {
        "id": "w5ullqjw5Bd_",
        "colab_type": "code",
        "colab": {
          "base_uri": "https://localhost:8080/",
          "height": 289
        },
        "outputId": "2d474d3a-8095-46be-cf18-554d331e74e6"
      },
      "source": [
        "learn.show_results()"
      ],
      "execution_count": 13,
      "outputs": [
        {
          "output_type": "display_data",
          "data": {
            "text/html": [
              "<table border=\"1\" class=\"dataframe\">\n",
              "  <thead>\n",
              "    <tr style=\"text-align: right;\">\n",
              "      <th>text</th>\n",
              "      <th>target</th>\n",
              "      <th>pred</th>\n",
              "    </tr>\n",
              "  </thead>\n",
              "  <tbody>\n",
              "    <tr>\n",
              "      <td>xxbos xxmaj kate xxmaj xxunk steals the show ! xxmaj bravo ! xxmaj too bad xxmaj xxunk xxunk as good</td>\n",
              "      <td>looking as xxmaj jeremy xxmaj xxunk . xxmaj mark xxmaj strong did a fabulous job . xxmaj xxunk xxmaj xxunk</td>\n",
              "      <td>as for xxmaj xxunk xxmaj xxunk . xxmaj the xxmaj xxunk , n't good job . xxmaj the xxmaj xxunk</td>\n",
              "    </tr>\n",
              "    <tr>\n",
              "      <td>one of the xxunk men on xxmaj earth ( or the xxunk xxmaj xxunk family themselves ) could n't afford</td>\n",
              "      <td>to get xxmaj edith and xxmaj edie a decent home ? xxmaj or at the very least xxunk a part</td>\n",
              "      <td>to be the xxunk xxmaj xxmaj xxunk xxmaj couple movie . xxmaj the , least same least , of xxunk</td>\n",
              "    </tr>\n",
              "    <tr>\n",
              "      <td>xxmaj the problem with the movie is that when there 's no monster action going on , it really sucks</td>\n",
              "      <td>and goes nowhere . xxmaj the script is very xxmaj ed xxmaj wood - xxunk , in that it 's</td>\n",
              "      <td>. it on . xxmaj the movie is so good xxunk xxmaj wood , xxmaj . and fact it 's</td>\n",
              "    </tr>\n",
              "    <tr>\n",
              "      <td>over as far as the story goes , but no one told that to the film makers for the picture</td>\n",
              "      <td>continues for another 10 minutes or so at a party where nothing much happens . xxmaj the xxmaj xxunk leave</td>\n",
              "      <td>. . the 10 minutes . so . all time . the is is . xxmaj the movie xxunk is</td>\n",
              "    </tr>\n",
              "    <tr>\n",
              "      <td>is over ? xxmaj the gun had blanks and it was provided to her from the very beginning . \\n</td>\n",
              "      <td>\\n  xxmaj when the xxunk comes back at the end she was xxup supposed to see him drive away</td>\n",
              "      <td>xxmaj the xxmaj movie xxunk to , the end of is xxunk ok to be the xxunk away . a</td>\n",
              "    </tr>\n",
              "  </tbody>\n",
              "</table>"
            ],
            "text/plain": [
              "<IPython.core.display.HTML object>"
            ]
          },
          "metadata": {
            "tags": []
          }
        }
      ]
    },
    {
      "cell_type": "code",
      "metadata": {
        "id": "-bsqrFrt5BeD",
        "colab_type": "code",
        "colab": {
          "base_uri": "https://localhost:8080/",
          "height": 87
        },
        "outputId": "e9579d38-536c-4d44-acca-2da2605b0bca"
      },
      "source": [
        "learn.predict('When I saw this movie the second time', 100)\n"
      ],
      "execution_count": 14,
      "outputs": [
        {
          "output_type": "execute_result",
          "data": {
            "application/vnd.google.colaboratory.intrinsic+json": {
              "type": "string"
            },
            "text/plain": [
              "\"When I saw this movie the second time path was from Sudden Impact Pop ( 2003 ) . It 's a disappears , that is exactly a bit hysterical as what happened here . Or a jump repeat of a camera off - edge . Yes , it is given a strong rate and probably deserved over 100 million points for that thing . OK i have point out that could be done in England in the last year of the first / second century by means of filming this one . \\n \\n  The road has not been built\""
            ]
          },
          "metadata": {
            "tags": []
          },
          "execution_count": 14
        }
      ]
    },
    {
      "cell_type": "code",
      "metadata": {
        "id": "UX2THx9V5BeG",
        "colab_type": "code",
        "colab": {
          "base_uri": "https://localhost:8080/",
          "height": 87
        },
        "outputId": "ef9da525-05af-4537-b518-4350dffeb938"
      },
      "source": [
        "learn.predict('As I was going up the stair I met a man who wasn\\'t there.', 100)"
      ],
      "execution_count": 15,
      "outputs": [
        {
          "output_type": "execute_result",
          "data": {
            "application/vnd.google.colaboratory.intrinsic+json": {
              "type": "string"
            },
            "text/plain": [
              "\"As I was going up the stair I met a man who wasn't there. So , leading him through the apartment and to his future and again getting it out in front of him . i kept him , and i was not surprised but i was satisfied ... i 'm not sure what was mentioned for the appearing team in the audience . But i start to come forward to the question that all of these i 'm going to wear for me very much . For me i watched one in the smooth Blood episodes from the reading room . The conversation between the two groups was\""
            ]
          },
          "metadata": {
            "tags": []
          },
          "execution_count": 15
        }
      ]
    },
    {
      "cell_type": "markdown",
      "metadata": {
        "id": "lUZmWMtE5BeJ",
        "colab_type": "text"
      },
      "source": [
        "Learning rate hyper-parameter is one of the most important parameters to train a model. Fast.ai provides a convenient utility (learn.lr_find) to search through a range of learning rates to find the optimum one for our dataset. Learning rate finder will increase the learning rate after each mini-batch. Eventually, the learning rate is too high that loss will get worse. Now look at the plot of learning rate against loss and determine the lowest point (around 1e-1 for the plot below) and go back by one magnitude and choose that as a learning rate (something around 1e-2)."
      ]
    },
    {
      "cell_type": "markdown",
      "metadata": {
        "id": "s1Wf0rQG5BeK",
        "colab_type": "text"
      },
      "source": [
        "### Classification"
      ]
    },
    {
      "cell_type": "markdown",
      "metadata": {
        "id": "F3_u3_wx5BeL",
        "colab_type": "text"
      },
      "source": [
        "Now let's see a classification example. We have to use the same vocabulary as for the language model if we want to be able to use the encoder we saved."
      ]
    },
    {
      "cell_type": "code",
      "metadata": {
        "id": "mhggoqch5BeM",
        "colab_type": "code",
        "colab": {
          "base_uri": "https://localhost:8080/",
          "height": 17
        },
        "outputId": "168750f3-74ad-4f35-c950-5a10457bcd1c"
      },
      "source": [
        "data_clas = (TextList.from_csv(imdb, 'texts.csv', cols='text', vocab=data_lm.vocab)\n",
        "                   .split_from_df(col='is_valid')\n",
        "                   .label_from_df(cols='label')\n",
        "                   .databunch(bs=42))"
      ],
      "execution_count": 16,
      "outputs": [
        {
          "output_type": "display_data",
          "data": {
            "text/html": [
              ""
            ],
            "text/plain": [
              "<IPython.core.display.HTML object>"
            ]
          },
          "metadata": {
            "tags": []
          }
        },
        {
          "output_type": "display_data",
          "data": {
            "text/html": [
              ""
            ],
            "text/plain": [
              "<IPython.core.display.HTML object>"
            ]
          },
          "metadata": {
            "tags": []
          }
        }
      ]
    },
    {
      "cell_type": "markdown",
      "metadata": {
        "id": "oaJBoRKi5BeP",
        "colab_type": "text"
      },
      "source": [
        "Here show_batch shows the beginning of each review with its target."
      ]
    },
    {
      "cell_type": "code",
      "metadata": {
        "id": "Gdj9cs2-5BeP",
        "colab_type": "code",
        "colab": {
          "base_uri": "https://localhost:8080/",
          "height": 306
        },
        "outputId": "662fdbf4-e9f4-41f6-c307-01f8d8d56932"
      },
      "source": [
        "data_clas.show_batch()"
      ],
      "execution_count": 17,
      "outputs": [
        {
          "output_type": "display_data",
          "data": {
            "text/html": [
              "<table border=\"1\" class=\"dataframe\">\n",
              "  <thead>\n",
              "    <tr style=\"text-align: right;\">\n",
              "      <th>text</th>\n",
              "      <th>target</th>\n",
              "    </tr>\n",
              "  </thead>\n",
              "  <tbody>\n",
              "    <tr>\n",
              "      <td>xxbos xxmaj raising xxmaj victor xxmaj vargas : a xxmaj review \\n \\n  xxmaj you know , xxmaj raising xxmaj victor xxmaj vargas is like sticking your hands into a big , xxunk bowl of xxunk . xxmaj it 's warm and xxunk , but you 're not sure if it feels right . xxmaj try as i might , no matter how warm and xxunk xxmaj raising xxmaj</td>\n",
              "      <td>negative</td>\n",
              "    </tr>\n",
              "    <tr>\n",
              "      <td>xxbos xxup the xxup shop xxup around xxup the xxup corner is one of the xxunk and most feel - good romantic comedies ever made . xxmaj there 's just no getting around that , and it 's hard to actually put one 's feeling for this film into words . xxmaj it 's not one of those films that tries too hard , nor does it come up with</td>\n",
              "      <td>positive</td>\n",
              "    </tr>\n",
              "    <tr>\n",
              "      <td>xxbos xxmaj now that xxmaj che(2008 ) has finished its relatively short xxmaj australian cinema run ( extremely limited xxunk screen in xxmaj xxunk , after xxunk ) , i can xxunk join both xxunk of \" xxmaj at xxmaj the xxmaj movies \" in taking xxmaj steven xxmaj soderbergh to task . \\n \\n  xxmaj it 's usually satisfying to watch a film director change his style /</td>\n",
              "      <td>negative</td>\n",
              "    </tr>\n",
              "    <tr>\n",
              "      <td>xxbos xxmaj this film sat on my xxmaj xxunk for weeks before i watched it . i xxunk a self - xxunk xxunk flick about relationships gone bad . i was wrong ; this was an xxunk xxunk into the xxunk - up xxunk of xxmaj new xxmaj xxunk . \\n \\n  xxmaj the xxunk is the same as xxmaj xxunk xxmaj xxunk ' \" xxmaj la xxmaj xxunk</td>\n",
              "      <td>positive</td>\n",
              "    </tr>\n",
              "    <tr>\n",
              "      <td>xxbos xxmaj many xxunk that this is n't just a classic due to the fact that it 's the first xxup xxunk game , or even the first xxunk - up . xxmaj it 's also one of the first xxunk games , one of the xxunk definitely the first ) truly xxunk games , and just a pretty well - xxunk xxunk experience in general . xxmaj with graphics</td>\n",
              "      <td>positive</td>\n",
              "    </tr>\n",
              "  </tbody>\n",
              "</table>"
            ],
            "text/plain": [
              "<IPython.core.display.HTML object>"
            ]
          },
          "metadata": {
            "tags": []
          }
        }
      ]
    },
    {
      "cell_type": "markdown",
      "metadata": {
        "id": "5fY1TZv_5BeS",
        "colab_type": "text"
      },
      "source": [
        "And we can train a classifier that uses our previous encoder."
      ]
    },
    {
      "cell_type": "code",
      "metadata": {
        "id": "HObRIdSP5BeV",
        "colab_type": "code",
        "colab": {
          "base_uri": "https://localhost:8080/",
          "height": 233
        },
        "outputId": "0a1dfcb9-c4ef-4d5e-bed2-e275728b70b4"
      },
      "source": [
        "learn_cl = text_classifier_learner(data_clas, AWD_LSTM, drop_mult=0.5)\n",
        "learn_cl.load_encoder('mini_train_encoder')\n",
        "learn_cl.fit_one_cycle(6, slice(1e-3,1e-2))\n",
        "learn_cl.save('mini_train_clas')"
      ],
      "execution_count": 18,
      "outputs": [
        {
          "output_type": "display_data",
          "data": {
            "text/html": [
              "<table border=\"1\" class=\"dataframe\">\n",
              "  <thead>\n",
              "    <tr style=\"text-align: left;\">\n",
              "      <th>epoch</th>\n",
              "      <th>train_loss</th>\n",
              "      <th>valid_loss</th>\n",
              "      <th>accuracy</th>\n",
              "      <th>time</th>\n",
              "    </tr>\n",
              "  </thead>\n",
              "  <tbody>\n",
              "    <tr>\n",
              "      <td>0</td>\n",
              "      <td>0.671207</td>\n",
              "      <td>0.581608</td>\n",
              "      <td>0.715000</td>\n",
              "      <td>00:08</td>\n",
              "    </tr>\n",
              "    <tr>\n",
              "      <td>1</td>\n",
              "      <td>0.565111</td>\n",
              "      <td>0.522793</td>\n",
              "      <td>0.750000</td>\n",
              "      <td>00:08</td>\n",
              "    </tr>\n",
              "    <tr>\n",
              "      <td>2</td>\n",
              "      <td>0.521359</td>\n",
              "      <td>0.593415</td>\n",
              "      <td>0.660000</td>\n",
              "      <td>00:07</td>\n",
              "    </tr>\n",
              "    <tr>\n",
              "      <td>3</td>\n",
              "      <td>0.477737</td>\n",
              "      <td>0.546695</td>\n",
              "      <td>0.740000</td>\n",
              "      <td>00:08</td>\n",
              "    </tr>\n",
              "    <tr>\n",
              "      <td>4</td>\n",
              "      <td>0.444946</td>\n",
              "      <td>0.569137</td>\n",
              "      <td>0.730000</td>\n",
              "      <td>00:08</td>\n",
              "    </tr>\n",
              "    <tr>\n",
              "      <td>5</td>\n",
              "      <td>0.423187</td>\n",
              "      <td>0.541301</td>\n",
              "      <td>0.740000</td>\n",
              "      <td>00:08</td>\n",
              "    </tr>\n",
              "  </tbody>\n",
              "</table>"
            ],
            "text/plain": [
              "<IPython.core.display.HTML object>"
            ]
          },
          "metadata": {
            "tags": []
          }
        }
      ]
    },
    {
      "cell_type": "markdown",
      "metadata": {
        "id": "Vqr2vXSs5BeY",
        "colab_type": "text"
      },
      "source": [
        "**Momentum**  \n",
        "There is one more argument(moms=(0.8,0.7))﹣momentums equals 0.8,0.7. Basically for training recurrent neural networks (RNNs), it really helps to decrease the momentum a little bit.The right side above is the momentum plot. Every time our learning rate is small, our momentum is high. Why is that? Because as you are learning small learning rate, but you keep going in the same direction, you may as well go faster (higher momentum). But as you are learning high learning rate, but you keep going in the same direction, you may overshoot the target, so momentum should be slowed. This trick can help you train 10 times faster."
      ]
    },
    {
      "cell_type": "code",
      "metadata": {
        "id": "EAtl-UFK5BeY",
        "colab_type": "code",
        "colab": {
          "base_uri": "https://localhost:8080/",
          "height": 110
        },
        "outputId": "4acf46d6-2f89-4ff9-ca19-8d98e50dcdcd"
      },
      "source": [
        "learn_cl.fit_one_cycle(2, slice(1e-3,1e-2), moms=(0.8, 0.7))"
      ],
      "execution_count": 19,
      "outputs": [
        {
          "output_type": "display_data",
          "data": {
            "text/html": [
              "<table border=\"1\" class=\"dataframe\">\n",
              "  <thead>\n",
              "    <tr style=\"text-align: left;\">\n",
              "      <th>epoch</th>\n",
              "      <th>train_loss</th>\n",
              "      <th>valid_loss</th>\n",
              "      <th>accuracy</th>\n",
              "      <th>time</th>\n",
              "    </tr>\n",
              "  </thead>\n",
              "  <tbody>\n",
              "    <tr>\n",
              "      <td>0</td>\n",
              "      <td>0.397511</td>\n",
              "      <td>0.597739</td>\n",
              "      <td>0.700000</td>\n",
              "      <td>00:07</td>\n",
              "    </tr>\n",
              "    <tr>\n",
              "      <td>1</td>\n",
              "      <td>0.400306</td>\n",
              "      <td>0.678719</td>\n",
              "      <td>0.665000</td>\n",
              "      <td>00:07</td>\n",
              "    </tr>\n",
              "  </tbody>\n",
              "</table>"
            ],
            "text/plain": [
              "<IPython.core.display.HTML object>"
            ]
          },
          "metadata": {
            "tags": []
          }
        }
      ]
    },
    {
      "cell_type": "code",
      "metadata": {
        "id": "AssSMvYt5Beb",
        "colab_type": "code",
        "colab": {
          "base_uri": "https://localhost:8080/",
          "height": 279
        },
        "outputId": "a7944694-1222-42d6-d7a2-84a38faf9bf8"
      },
      "source": [
        "learn_cl.recorder.plot_losses()"
      ],
      "execution_count": 20,
      "outputs": [
        {
          "output_type": "display_data",
          "data": {
            "image/png": "[encoded data removed]",
            "text/plain": [
              "<Figure size 432x288 with 1 Axes>"
            ]
          },
          "metadata": {
            "tags": [],
            "needs_background": "light"
          }
        }
      ]
    },
    {
      "cell_type": "code",
      "metadata": {
        "id": "MfBhxG_U5Bef",
        "colab_type": "code",
        "colab": {
          "base_uri": "https://localhost:8080/",
          "height": 358
        },
        "outputId": "716ac25e-87e1-43c6-eae8-4b595353052d"
      },
      "source": [
        "learn_cl.show_results()"
      ],
      "execution_count": 21,
      "outputs": [
        {
          "output_type": "display_data",
          "data": {
            "text/html": [
              "<table border=\"1\" class=\"dataframe\">\n",
              "  <thead>\n",
              "    <tr style=\"text-align: right;\">\n",
              "      <th>text</th>\n",
              "      <th>target</th>\n",
              "      <th>prediction</th>\n",
              "    </tr>\n",
              "  </thead>\n",
              "  <tbody>\n",
              "    <tr>\n",
              "      <td>xxbos \\n \\n  i 'm sure things did n't exactly go the same way in the real life of xxmaj homer xxmaj hickam as they did in the film adaptation of his book , xxmaj rocket xxmaj boys , but the movie \" xxmaj october xxmaj sky \" ( an xxunk of the book 's title ) is good enough to stand alone . i have not read xxmaj</td>\n",
              "      <td>positive</td>\n",
              "      <td>positive</td>\n",
              "    </tr>\n",
              "    <tr>\n",
              "      <td>xxbos xxmaj to review this movie , i without any doubt would have to quote that memorable scene in xxmaj tarantino 's \" xxmaj pulp xxmaj fiction \" ( xxunk ) when xxmaj jules and xxmaj vincent are talking about xxmaj mia xxmaj wallace and what she does for a living . xxmaj jules tells xxmaj vincent that the \" xxmaj only thing she did worthwhile was pilot \" .</td>\n",
              "      <td>negative</td>\n",
              "      <td>negative</td>\n",
              "    </tr>\n",
              "    <tr>\n",
              "      <td>xxbos xxmaj how viewers react to this new \" adaption \" of xxmaj shirley xxmaj jackson 's book , which was xxunk as xxup not being a remake of the original 1963 movie ( true enough ) , will be based , i suspect , on the following : those who were big fans of either the book or original movie are not going to think much of this one</td>\n",
              "      <td>negative</td>\n",
              "      <td>negative</td>\n",
              "    </tr>\n",
              "    <tr>\n",
              "      <td>xxbos xxmaj the trouble with the book , \" xxmaj memoirs of a xxmaj geisha \" is that it had xxmaj japanese xxunk but underneath the xxunk it was all an xxmaj american man 's way of thinking . xxmaj reading the book is like watching a magnificent ballet with great music , sets , and costumes yet performed by xxunk animals dressed in those xxunk far from xxmaj japanese</td>\n",
              "      <td>negative</td>\n",
              "      <td>positive</td>\n",
              "    </tr>\n",
              "    <tr>\n",
              "      <td>xxbos xxmaj bonanza had a great cast of wonderful actors . xxmaj xxunk xxmaj xxunk , xxmaj pernell xxmaj whitaker , xxmaj michael xxmaj xxunk , xxmaj dan xxmaj blocker , and even xxmaj guy xxmaj williams ( as the cousin who was brought in for several episodes during 1964 to replace xxmaj adam when he was leaving the series ) . xxmaj the cast had chemistry , and they</td>\n",
              "      <td>positive</td>\n",
              "      <td>positive</td>\n",
              "    </tr>\n",
              "  </tbody>\n",
              "</table>"
            ],
            "text/plain": [
              "<IPython.core.display.HTML object>"
            ]
          },
          "metadata": {
            "tags": []
          }
        }
      ]
    },
    {
      "cell_type": "code",
      "metadata": {
        "id": "xEsxn3Dh5Bek",
        "colab_type": "code",
        "colab": {
          "base_uri": "https://localhost:8080/",
          "height": 311
        },
        "outputId": "3fadc2b6-2264-4c0d-a03c-e79520910d07"
      },
      "source": [
        "preds, y, losses = learn_cl.get_preds(with_loss=True)\n",
        "interp = ClassificationInterpretation(learn_cl, preds, y, losses)\n",
        "interp.plot_confusion_matrix()"
      ],
      "execution_count": 22,
      "outputs": [
        {
          "output_type": "display_data",
          "data": {
            "text/html": [
              ""
            ],
            "text/plain": [
              "<IPython.core.display.HTML object>"
            ]
          },
          "metadata": {
            "tags": []
          }
        },
        {
          "output_type": "display_data",
          "data": {
            "image/png": "[encoded data removed]",
            "text/plain": [
              "<Figure size 432x288 with 1 Axes>"
            ]
          },
          "metadata": {
            "tags": [],
            "needs_background": "light"
          }
        }
      ]
    },
    {
      "cell_type": "markdown",
      "metadata": {
        "id": "KoK3ERry5Ben",
        "colab_type": "text"
      },
      "source": [
        "### Excercise\n",
        "Make sentiment predictions for 5 movie reviews from IMDB web site."
      ]
    },
    {
      "cell_type": "code",
      "metadata": {
        "id": "iyNQXe5E5Beo",
        "colab_type": "code",
        "colab": {
          "base_uri": "https://localhost:8080/",
          "height": 70
        },
        "outputId": "4cbac5d2-d5ad-42ae-ce48-0ad22dd73595"
      },
      "source": [
        "# A rotten tomatos review for Christopher's Nolan movie Inception\n",
        "first_movie_review = learn.predict('This endlessly fascinating swirl ', 58)\n",
        "first_movie_review"
      ],
      "execution_count": 74,
      "outputs": [
        {
          "output_type": "execute_result",
          "data": {
            "application/vnd.google.colaboratory.intrinsic+json": {
              "type": "string"
            },
            "text/plain": [
              "'This endlessly fascinating swirl  , but is true to my favorite French western genre , Lead Man . As you can have a longer expect to recommend it . The determination of the other reviews is pretty crisp , and it has something to do with wonderful photography and even an excellent dozen camera work . \\n \\n '"
            ]
          },
          "metadata": {
            "tags": []
          },
          "execution_count": 74
        }
      ]
    },
    {
      "cell_type": "code",
      "metadata": {
        "id": "yKsdJTcBjKcI",
        "colab_type": "code",
        "colab": {
          "base_uri": "https://localhost:8080/",
          "height": 55
        },
        "outputId": "5e4fb4c1-ace0-4d1d-caf9-21a23ff865a0"
      },
      "source": [
        "real_first_movie_review = print('This endlessly fascinating swirl of a film could have come only from Nolan, who blends the cerebral twistiness of Memento (his thriller that moves backward in time) with the spectacular action of his Batman megahit, The Dark Knight')"
      ],
      "execution_count": 75,
      "outputs": [
        {
          "output_type": "stream",
          "text": [
            "This endlessly fascinating swirl of a film could have come only from Nolan, who blends the cerebral twistiness of Memento (his thriller that moves backward in time) with the spectacular action of his Batman megahit, The Dark Knight\n"
          ],
          "name": "stdout"
        }
      ]
    },
    {
      "cell_type": "code",
      "metadata": {
        "id": "r32YjZTvVTat",
        "colab_type": "code",
        "colab": {
          "base_uri": "https://localhost:8080/",
          "height": 35
        },
        "outputId": "8e558158-820d-4d3c-e92f-7ff890bc4873"
      },
      "source": [
        "first_movie_review_classifier = learn_cl.predict(first_movie_review)\n",
        "print(first_movie_review_classifier[2][0])"
      ],
      "execution_count": 76,
      "outputs": [
        {
          "output_type": "stream",
          "text": [
            "tensor(0.0083)\n"
          ],
          "name": "stdout"
        }
      ]
    },
    {
      "cell_type": "code",
      "metadata": {
        "id": "njzv_MatgO-d",
        "colab_type": "code",
        "colab": {
          "base_uri": "https://localhost:8080/",
          "height": 35
        },
        "outputId": "7f77073e-b40f-44e0-e067-4f8109aaeb81"
      },
      "source": [
        "# A quote from The Usual Suspects \n",
        "# should have 14 words\n",
        "second_movie_quote= learn.predict('The greatest trick the Devil ever pulled', 9)\n",
        "second_movie_quote"
      ],
      "execution_count": 77,
      "outputs": [
        {
          "output_type": "execute_result",
          "data": {
            "application/vnd.google.colaboratory.intrinsic+json": {
              "type": "string"
            },
            "text/plain": [
              "\"The greatest trick the Devil ever pulled back , Peter Austen 's film identical\""
            ]
          },
          "metadata": {
            "tags": []
          },
          "execution_count": 77
        }
      ]
    },
    {
      "cell_type": "code",
      "metadata": {
        "id": "uT2nPOXnoGAC",
        "colab_type": "code",
        "colab": {
          "base_uri": "https://localhost:8080/",
          "height": 35
        },
        "outputId": "f12fe99e-75e5-424f-fde1-46903ad2b62a"
      },
      "source": [
        "real_second_quote = print(\"The greatest trick the Devil ever pulled was convincing the world he didn't exist\")"
      ],
      "execution_count": 78,
      "outputs": [
        {
          "output_type": "stream",
          "text": [
            "The greatest trick the Devil ever pulled was convincing the world he didn't exist\n"
          ],
          "name": "stdout"
        }
      ]
    },
    {
      "cell_type": "code",
      "metadata": {
        "id": "DTu-krduVMey",
        "colab_type": "code",
        "colab": {
          "base_uri": "https://localhost:8080/",
          "height": 35
        },
        "outputId": "1ef3ef52-a186-4a54-97c3-59d4d9eedad2"
      },
      "source": [
        "second_movie_review_classifier = learn_cl.predict(second_movie_quote)\n",
        "print(second_movie_review_classifier[2][0])"
      ],
      "execution_count": 79,
      "outputs": [
        {
          "output_type": "stream",
          "text": [
            "tensor(0.0019)\n"
          ],
          "name": "stdout"
        }
      ]
    },
    {
      "cell_type": "code",
      "metadata": {
        "id": "Z9bQNzAWhIdK",
        "colab_type": "code",
        "colab": {
          "base_uri": "https://localhost:8080/",
          "height": 35
        },
        "outputId": "246a0b7f-0de4-417a-bd67-278a6927a836"
      },
      "source": [
        "# A quote from V for Vendetta\n",
        "# should have 24 words \n",
        "third_movie_quote = learn.predict('Remember, remember, the fifth,',20)\n",
        "third_movie_quote"
      ],
      "execution_count": 80,
      "outputs": [
        {
          "output_type": "execute_result",
          "data": {
            "application/vnd.google.colaboratory.intrinsic+json": {
              "type": "string"
            },
            "text/plain": [
              "'Remember, remember, the fifth, the last possible word of English , i went down for the first time in English ( the'"
            ]
          },
          "metadata": {
            "tags": []
          },
          "execution_count": 80
        }
      ]
    },
    {
      "cell_type": "code",
      "metadata": {
        "id": "5EtA3QrOimrI",
        "colab_type": "code",
        "colab": {
          "base_uri": "https://localhost:8080/",
          "height": 35
        },
        "outputId": "5e35e5ed-29cf-4a16-a690-b4bf278aba24"
      },
      "source": [
        "real_third_movie_review = print('\"Remember, remember, the Fifth of November, the Gunpowder Treason and Plot. I know of no reason why the Gunpowder Treason should ever be forgot...\"')"
      ],
      "execution_count": 81,
      "outputs": [
        {
          "output_type": "stream",
          "text": [
            "\"Remember, remember, the Fifth of November, the Gunpowder Treason and Plot. I know of no reason why the Gunpowder Treason should ever be forgot...\"\n"
          ],
          "name": "stdout"
        }
      ]
    },
    {
      "cell_type": "code",
      "metadata": {
        "id": "BY0cEg1cUvaK",
        "colab_type": "code",
        "colab": {
          "base_uri": "https://localhost:8080/",
          "height": 35
        },
        "outputId": "e60de6ff-bdf6-4bb5-9248-31e4beb8d447"
      },
      "source": [
        "third_movie_review_classifier = learn_cl.predict(third_movie_quote)\n",
        "print(third_movie_review_classifier[2][0])"
      ],
      "execution_count": 82,
      "outputs": [
        {
          "output_type": "stream",
          "text": [
            "tensor(0.3832)\n"
          ],
          "name": "stdout"
        }
      ]
    },
    {
      "cell_type": "code",
      "metadata": {
        "id": "sQhLO_WDpTCd",
        "colab_type": "code",
        "colab": {
          "base_uri": "https://localhost:8080/",
          "height": 53
        },
        "outputId": "0c4d1dbf-5da7-4f60-e01e-648293864cce"
      },
      "source": [
        "fourth_movie_review = learn.predict('Nolan masterfully weaves', 28)\n",
        "fourth_movie_review\n"
      ],
      "execution_count": 83,
      "outputs": [
        {
          "output_type": "execute_result",
          "data": {
            "application/vnd.google.colaboratory.intrinsic+json": {
              "type": "string"
            },
            "text/plain": [
              "'Nolan masterfully weaves in a range of relation suspense between length and humour , but the writing was often less realistic . Made for low - budget , poor acting'"
            ]
          },
          "metadata": {
            "tags": []
          },
          "execution_count": 83
        }
      ]
    },
    {
      "cell_type": "code",
      "metadata": {
        "id": "TTKk80roTaq5",
        "colab_type": "code",
        "colab": {
          "base_uri": "https://localhost:8080/",
          "height": 35
        },
        "outputId": "fbbce882-14dc-4f64-8746-4a0f7b1dbcab"
      },
      "source": [
        "fourth_movie_review_classifier = learn_cl.predict(fourth_movie_review)\n",
        "print(fourth_movie_review_classifier[2][0])"
      ],
      "execution_count": 90,
      "outputs": [
        {
          "output_type": "stream",
          "text": [
            "tensor(0.2738)\n"
          ],
          "name": "stdout"
        }
      ]
    },
    {
      "cell_type": "code",
      "metadata": {
        "id": "oT98BNADq6nP",
        "colab_type": "code",
        "colab": {
          "base_uri": "https://localhost:8080/",
          "height": 55
        },
        "outputId": "92784b05-b061-472e-e614-c383652b7b28"
      },
      "source": [
        "real_fourth_review = print('Nolan masterfully weaves all these elements together, creating a second act that is breathtaking, suspenseful and thought-provoking...unfortunately, it takes us a good hour for us to get there.')"
      ],
      "execution_count": 85,
      "outputs": [
        {
          "output_type": "stream",
          "text": [
            "Nolan masterfully weaves all these elements together, creating a second act that is breathtaking, suspenseful and thought-provoking...unfortunately, it takes us a good hour for us to get there.\n"
          ],
          "name": "stdout"
        }
      ]
    },
    {
      "cell_type": "code",
      "metadata": {
        "id": "Fc3_pEK5rCIK",
        "colab_type": "code",
        "colab": {
          "base_uri": "https://localhost:8080/",
          "height": 35
        },
        "outputId": "27dfb305-8017-4e33-86f2-2a8832e395e4"
      },
      "source": [
        "fifth_movie_review = learn.predict('Infused with',27)\n",
        "fifth_movie_review\n"
      ],
      "execution_count": 86,
      "outputs": [
        {
          "output_type": "execute_result",
          "data": {
            "application/vnd.google.colaboratory.intrinsic+json": {
              "type": "string"
            },
            "text/plain": [
              "'Infused with one of the most popular comments on video ... Screaming Heads is kind of the recording artist Ben Wire temple . He'"
            ]
          },
          "metadata": {
            "tags": []
          },
          "execution_count": 86
        }
      ]
    },
    {
      "cell_type": "code",
      "metadata": {
        "id": "p41f_h4frrTR",
        "colab_type": "code",
        "colab": {
          "base_uri": "https://localhost:8080/",
          "height": 35
        },
        "outputId": "acc16e39-2a94-4716-8d76-034e7e82704a"
      },
      "source": [
        "real_fifth_movie_review = print('Infused with his trademark wit, the film is hilarious at times but also carries with it more complex undertones. Benjamin is a gorgeous little film.')"
      ],
      "execution_count": 87,
      "outputs": [
        {
          "output_type": "stream",
          "text": [
            "Infused with his trademark wit, the film is hilarious at times but also carries with it more complex undertones. Benjamin is a gorgeous little film.\n"
          ],
          "name": "stdout"
        }
      ]
    },
    {
      "cell_type": "code",
      "metadata": {
        "id": "Dq_845hvr22l",
        "colab_type": "code",
        "colab": {
          "base_uri": "https://localhost:8080/",
          "height": 35
        },
        "outputId": "c7068a1f-ceea-439f-a055-746cc38e517f"
      },
      "source": [
        "fifth_movie_review_classifier = learn_cl.predict(fifth_movie_review)\n",
        "print(fifth_movie_review_classifier[2][0])"
      ],
      "execution_count": 88,
      "outputs": [
        {
          "output_type": "stream",
          "text": [
            "tensor(0.0023)\n"
          ],
          "name": "stdout"
        }
      ]
    },
    {
      "cell_type": "markdown",
      "metadata": {
        "id": "69vXoHCNS74R",
        "colab_type": "text"
      },
      "source": [
        ""
      ]
    },
    {
      "cell_type": "code",
      "metadata": {
        "id": "WGCWlqPghOSH",
        "colab_type": "code",
        "colab": {
          "base_uri": "https://localhost:8080/",
          "height": 35
        },
        "outputId": "efb027d6-7902-4f75-cd1f-8d22dfe5baa1"
      },
      "source": [
        "learn_cl.data.classes"
      ],
      "execution_count": 89,
      "outputs": [
        {
          "output_type": "execute_result",
          "data": {
            "text/plain": [
              "['negative', 'positive']"
            ]
          },
          "metadata": {
            "tags": []
          },
          "execution_count": 89
        }
      ]
    },
    {
      "cell_type": "code",
      "metadata": {
        "id": "UUrhczioUjE1",
        "colab_type": "code",
        "colab": {}
      },
      "source": [
        ""
      ],
      "execution_count": 89,
      "outputs": []
    }
  ]
}
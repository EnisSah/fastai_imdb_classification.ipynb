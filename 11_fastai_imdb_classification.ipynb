{
  "nbformat": 4,
  "nbformat_minor": 0,
  "metadata": {
    "kernelspec": {
      "display_name": "Python 3",
      "language": "python",
      "name": "python3"
    },
    "language_info": {
      "codemirror_mode": {
        "name": "ipython",
        "version": 3
      },
      "file_extension": ".py",
      "mimetype": "text/x-python",
      "name": "python",
      "nbconvert_exporter": "python",
      "pygments_lexer": "ipython3",
      "version": "3.6.5"
    },
    "colab": {
      "name": "11_fastai_imdb_classification.ipynb",
      "provenance": [],
      "collapsed_sections": []
    },
    "accelerator": "GPU"
  },
  "cells": [
    {
      "cell_type": "code",
      "metadata": {
        "hide_input": true,
        "id": "gQUFkOEt5Bct",
        "colab_type": "code",
        "colab": {}
      },
      "source": [
        "from fastai.basics import *\n",
        "from fastai.gen_doc.nbdoc import *"
      ],
      "execution_count": 1,
      "outputs": []
    },
    {
      "cell_type": "code",
      "metadata": {
        "id": "Wy13E4Z95BdV",
        "colab_type": "code",
        "colab": {
          "base_uri": "https://localhost:8080/",
          "height": 35
        },
        "outputId": "feb59301-cd09-444b-e890-efa62f887d14"
      },
      "source": [
        "import fastai\n",
        "from fastai.version import __version__\n",
        "print(__version__)"
      ],
      "execution_count": 2,
      "outputs": [
        {
          "output_type": "stream",
          "text": [
            "1.0.61\n"
          ],
          "name": "stdout"
        }
      ]
    },
    {
      "cell_type": "markdown",
      "metadata": {
        "id": "MkD_JoEC5Bdc",
        "colab_type": "text"
      },
      "source": [
        "## Text"
      ]
    },
    {
      "cell_type": "markdown",
      "metadata": {
        "id": "4nWhPZ2B5Bdd",
        "colab_type": "text"
      },
      "source": [
        "Next application is text, so let's start by importing everything we'll need."
      ]
    },
    {
      "cell_type": "code",
      "metadata": {
        "id": "gVlon61S5Bde",
        "colab_type": "code",
        "colab": {}
      },
      "source": [
        "from fastai.text import *"
      ],
      "execution_count": 3,
      "outputs": []
    },
    {
      "cell_type": "markdown",
      "metadata": {
        "id": "tLgrItHW5Bdh",
        "colab_type": "text"
      },
      "source": [
        "### Language modelling"
      ]
    },
    {
      "cell_type": "markdown",
      "metadata": {
        "id": "EZ4fzVpX5Bdh",
        "colab_type": "text"
      },
      "source": [
        "First we'll fine-tune a pretrained language model on our subset of imdb."
      ]
    },
    {
      "cell_type": "code",
      "metadata": {
        "id": "wEOdZOrD5Bdi",
        "colab_type": "code",
        "colab": {
          "base_uri": "https://localhost:8080/",
          "height": 35
        },
        "outputId": "da1015b0-b157-4a8a-c1f3-d263c946ad1d"
      },
      "source": [
        "imdb = untar_data(URLs.IMDB_SAMPLE)"
      ],
      "execution_count": 4,
      "outputs": [
        {
          "output_type": "stream",
          "text": [
            "Downloading http://files.fast.ai/data/examples/imdb_sample.tgz\n"
          ],
          "name": "stdout"
        },
        {
          "output_type": "display_data",
          "data": {
            "text/html": [
              ""
            ],
            "text/plain": [
              "<IPython.core.display.HTML object>"
            ]
          },
          "metadata": {
            "tags": []
          }
        }
      ]
    },
    {
      "cell_type": "code",
      "metadata": {
        "id": "H8c67OHM5Bdm",
        "colab_type": "code",
        "colab": {
          "base_uri": "https://localhost:8080/",
          "height": 17
        },
        "outputId": "b16f634f-6548-4998-bbdf-40afd2509566"
      },
      "source": [
        "data_lm = (TextList.from_csv(imdb, 'texts.csv', cols='text')\n",
        "                   .split_by_rand_pct()\n",
        "                   .label_for_lm()  # Language model does not need labels\n",
        "                   .databunch())\n",
        "data_lm.save()"
      ],
      "execution_count": 5,
      "outputs": [
        {
          "output_type": "display_data",
          "data": {
            "text/html": [
              ""
            ],
            "text/plain": [
              "<IPython.core.display.HTML object>"
            ]
          },
          "metadata": {
            "tags": []
          }
        },
        {
          "output_type": "display_data",
          "data": {
            "text/html": [
              ""
            ],
            "text/plain": [
              "<IPython.core.display.HTML object>"
            ]
          },
          "metadata": {
            "tags": []
          }
        }
      ]
    },
    {
      "cell_type": "markdown",
      "metadata": {
        "id": "3ZdOqFBc5Bdq",
        "colab_type": "text"
      },
      "source": [
        "`data.show_batch()` will work here as well. For a language model, it shows us the beginning of each sequence of text along the batch dimension (the target being to guess the next word)."
      ]
    },
    {
      "cell_type": "code",
      "metadata": {
        "id": "rNt14Nvd5Bdr",
        "colab_type": "code",
        "colab": {
          "base_uri": "https://localhost:8080/",
          "height": 393
        },
        "outputId": "c85fe4ea-2888-4aea-84d1-fea8212d8529"
      },
      "source": [
        "data_lm.show_batch()"
      ],
      "execution_count": 6,
      "outputs": [
        {
          "output_type": "stream",
          "text": [
            "/usr/local/lib/python3.6/dist-packages/fastai/text/data.py:339: UserWarning: This overload of nonzero is deprecated:\n",
            "\tnonzero()\n",
            "Consider using one of the following signatures instead:\n",
            "\tnonzero(*, bool as_tuple) (Triggered internally at  /pytorch/torch/csrc/utils/python_arg_parser.cpp:766.)\n",
            "  idx_min = (t != self.pad_idx).nonzero().min()\n"
          ],
          "name": "stderr"
        },
        {
          "output_type": "display_data",
          "data": {
            "text/html": [
              "<table border=\"1\" class=\"dataframe\">\n",
              "  <thead>\n",
              "    <tr style=\"text-align: right;\">\n",
              "      <th>idx</th>\n",
              "      <th>text</th>\n",
              "    </tr>\n",
              "  </thead>\n",
              "  <tbody>\n",
              "    <tr>\n",
              "      <td>0</td>\n",
              "      <td>! ! ! xxmaj finally this was directed by the guy who did xxmaj big xxmaj xxunk ? xxmaj must be a replay of xxmaj xxunk - hollywood style . xxmaj xxunk ! xxbos xxmaj this is a extremely well - made film . xxmaj the acting , script and camera - work are all first - rate . xxmaj the music is good , too , though it is</td>\n",
              "    </tr>\n",
              "    <tr>\n",
              "      <td>1</td>\n",
              "      <td>count xxmaj igor xxmaj xxunk was horribly burned and killed in a lab accident . \\n \\n  xxmaj then a woman xxmaj xxunk ( xxmaj xxunk xxmaj xxunk ) that xxmaj igor hired before his death to xxunk him in his xxunk shows up . xxmaj yanos xxunk to hire her in place of his brother and together they seek the xxunk for the xxunk of dead xxunk .</td>\n",
              "    </tr>\n",
              "    <tr>\n",
              "      <td>2</td>\n",
              "      <td>xxmaj barnes is oh so hot for her , but she cares only about one thing : getting rid of xxmaj celeste so that she might shine more xxunk on the set . xxmaj to this end she gets xxmaj barnes to do all sorts of things to wreck xxmaj celeste 's career , but through xxunk and / or a xxunk logic , all his attempts go awry ,</td>\n",
              "    </tr>\n",
              "    <tr>\n",
              "      <td>3</td>\n",
              "      <td>xxmaj xxunk it like xxmaj xxunk \" i believe it is a true gem . xxbos xxmaj the fact that most of the budget for this presumably went on the heavy - duty cast list should n't have mattered if it had been staged with flair and imagination and some sympathy for the original 's satirical intent . xxmaj instead we get xxunk bad song and dance sequences featuring xxunk</td>\n",
              "    </tr>\n",
              "    <tr>\n",
              "      <td>4</td>\n",
              "      <td>xxmaj when he comes to hand out xxunk to xxmaj valjean and xxmaj cosette , he says the one line in the movie that set me screaming at the xxup tv set . \" xxmaj we are n't xxunk . \" i could hear xxmaj victor xxmaj hugo xxunk in his grave . xxup of xxup course xxup they xxup are xxup xxunk ! xxmaj they want to xxunk against</td>\n",
              "    </tr>\n",
              "  </tbody>\n",
              "</table>"
            ],
            "text/plain": [
              "<IPython.core.display.HTML object>"
            ]
          },
          "metadata": {
            "tags": []
          }
        }
      ]
    },
    {
      "cell_type": "code",
      "metadata": {
        "id": "g0my1gZE5Bdv",
        "colab_type": "code",
        "colab": {}
      },
      "source": [
        "# Special tokens\n",
        "# xxbos: Begining of a sentence\n",
        "# xxfld: Represent separate parts of a document like title, summary etc., each one will get a separate field and so they will get numbered (e.g. xxfld 1, xxfld 2).\n",
        "# xxup: If there's something in all caps, it gets lower cased and a token called xxup will get added to it. Words that are fully capitalized, such as “I AM SHOUTING”, are tokenized as “xxup i xxup am xxup shouting“\n",
        "# xxunk: token used instead of an uncommon word.\n",
        "# xxmaj: token indicates that there is capitalization of the word. “The” will be tokenized as “xxmaj the“.\n",
        "# xxrep: token indicates repeated word, if you have 29 ! in a row, (i.e. xxrep 29 !)."
      ],
      "execution_count": 7,
      "outputs": []
    },
    {
      "cell_type": "code",
      "metadata": {
        "id": "IL0wD2C45Bdz",
        "colab_type": "code",
        "colab": {
          "base_uri": "https://localhost:8080/",
          "height": 364
        },
        "outputId": "b5697eae-bcb1-4801-d4c2-4e4312a0771f"
      },
      "source": [
        "data_lm.vocab.itos[:20]"
      ],
      "execution_count": 8,
      "outputs": [
        {
          "output_type": "execute_result",
          "data": {
            "text/plain": [
              "['xxunk',\n",
              " 'xxpad',\n",
              " 'xxbos',\n",
              " 'xxeos',\n",
              " 'xxfld',\n",
              " 'xxmaj',\n",
              " 'xxup',\n",
              " 'xxrep',\n",
              " 'xxwrep',\n",
              " 'the',\n",
              " ',',\n",
              " '.',\n",
              " 'and',\n",
              " 'a',\n",
              " 'of',\n",
              " 'to',\n",
              " 'is',\n",
              " 'it',\n",
              " 'in',\n",
              " 'i']"
            ]
          },
          "metadata": {
            "tags": []
          },
          "execution_count": 8
        }
      ]
    },
    {
      "cell_type": "markdown",
      "metadata": {
        "id": "2cXqz2Di5Bd2",
        "colab_type": "text"
      },
      "source": [
        "#### Numericalization\n",
        "Finally it is easier for machine to deal with the numbers so replace the tokens with the location of the token in the vocab:"
      ]
    },
    {
      "cell_type": "code",
      "metadata": {
        "id": "dx988QLO5Bd3",
        "colab_type": "code",
        "colab": {
          "base_uri": "https://localhost:8080/",
          "height": 35
        },
        "outputId": "a3a7d8ee-cc43-4ad2-d9d2-5fdbd392644d"
      },
      "source": [
        "data_lm.train_ds[0][0].data[:10]"
      ],
      "execution_count": 9,
      "outputs": [
        {
          "output_type": "execute_result",
          "data": {
            "text/plain": [
              "array([   2,    5, 4562,   24,    0,   24,  864,   52,    5, 3738])"
            ]
          },
          "metadata": {
            "tags": []
          },
          "execution_count": 9
        }
      ]
    },
    {
      "cell_type": "markdown",
      "metadata": {
        "id": "yzec63Tl5Bd6",
        "colab_type": "text"
      },
      "source": [
        "The default vocab size is set to 60,000 words and min count for a word to be added to vocab is 2, to avoid getting the weight matrix huge."
      ]
    },
    {
      "cell_type": "markdown",
      "metadata": {
        "id": "HNTCb9P85Bd6",
        "colab_type": "text"
      },
      "source": [
        "Now let's define a language model learner. drop_mult - a hyper-parameter ,used for regularization, sets the amount of dropout. If the model is over-fitting increase it, if under-fitting, you can decrease the number."
      ]
    },
    {
      "cell_type": "code",
      "metadata": {
        "id": "jKydgcl95Bd7",
        "colab_type": "code",
        "colab": {
          "base_uri": "https://localhost:8080/",
          "height": 189
        },
        "outputId": "3dbb7ee4-8901-4259-bb95-d613e718cf50"
      },
      "source": [
        "learn = language_model_learner(data_lm, AWD_LSTM)\n",
        "learn.fit_one_cycle(4, 1e-2)\n",
        "learn.save('mini_train_lm')\n",
        "learn.save_encoder('mini_train_encoder')"
      ],
      "execution_count": 10,
      "outputs": [
        {
          "output_type": "stream",
          "text": [
            "Downloading https://s3.amazonaws.com/fast-ai-modelzoo/wt103-fwd.tgz\n"
          ],
          "name": "stdout"
        },
        {
          "output_type": "display_data",
          "data": {
            "text/html": [
              ""
            ],
            "text/plain": [
              "<IPython.core.display.HTML object>"
            ]
          },
          "metadata": {
            "tags": []
          }
        },
        {
          "output_type": "display_data",
          "data": {
            "text/html": [
              "<table border=\"1\" class=\"dataframe\">\n",
              "  <thead>\n",
              "    <tr style=\"text-align: left;\">\n",
              "      <th>epoch</th>\n",
              "      <th>train_loss</th>\n",
              "      <th>valid_loss</th>\n",
              "      <th>accuracy</th>\n",
              "      <th>time</th>\n",
              "    </tr>\n",
              "  </thead>\n",
              "  <tbody>\n",
              "    <tr>\n",
              "      <td>0</td>\n",
              "      <td>4.384156</td>\n",
              "      <td>3.781654</td>\n",
              "      <td>0.290834</td>\n",
              "      <td>00:20</td>\n",
              "    </tr>\n",
              "    <tr>\n",
              "      <td>1</td>\n",
              "      <td>4.131581</td>\n",
              "      <td>3.731234</td>\n",
              "      <td>0.293136</td>\n",
              "      <td>00:20</td>\n",
              "    </tr>\n",
              "    <tr>\n",
              "      <td>2</td>\n",
              "      <td>3.916430</td>\n",
              "      <td>3.722423</td>\n",
              "      <td>0.294294</td>\n",
              "      <td>00:20</td>\n",
              "    </tr>\n",
              "    <tr>\n",
              "      <td>3</td>\n",
              "      <td>3.759709</td>\n",
              "      <td>3.716828</td>\n",
              "      <td>0.294238</td>\n",
              "      <td>00:21</td>\n",
              "    </tr>\n",
              "  </tbody>\n",
              "</table>"
            ],
            "text/plain": [
              "<IPython.core.display.HTML object>"
            ]
          },
          "metadata": {
            "tags": []
          }
        }
      ]
    },
    {
      "cell_type": "markdown",
      "metadata": {
        "id": "EesR96G55Bd-",
        "colab_type": "text"
      },
      "source": [
        "Then we can have a look at the results. It shows a certain amount of words (default 20), then the next 20 target words and the ones that were predicted."
      ]
    },
    {
      "cell_type": "code",
      "metadata": {
        "id": "w5ullqjw5Bd_",
        "colab_type": "code",
        "colab": {
          "base_uri": "https://localhost:8080/",
          "height": 289
        },
        "outputId": "01f54272-98b2-408e-9eda-ece77c3b48ef"
      },
      "source": [
        "learn.show_results()"
      ],
      "execution_count": 11,
      "outputs": [
        {
          "output_type": "display_data",
          "data": {
            "text/html": [
              "<table border=\"1\" class=\"dataframe\">\n",
              "  <thead>\n",
              "    <tr style=\"text-align: right;\">\n",
              "      <th>text</th>\n",
              "      <th>target</th>\n",
              "      <th>pred</th>\n",
              "    </tr>\n",
              "  </thead>\n",
              "  <tbody>\n",
              "    <tr>\n",
              "      <td>xxbos i just watched xxmaj xxunk xxmaj fisher on xxup bravo . xxmaj what an awesome movie and incredible young</td>\n",
              "      <td>man . xxmaj this movie is a must see for anyone who is dealing with how to overcome childhood abuse</td>\n",
              "      <td>film . xxmaj it movie is a great see for all who is xxunk with the much watch the problems</td>\n",
              "    </tr>\n",
              "    <tr>\n",
              "      <td>scenes really need to take a xxunk and just be a nice part of the background . xxmaj this was</td>\n",
              "      <td>just a tv - movie , though , so they had to add some xxmaj xxunk to the picture and</td>\n",
              "      <td>a a very show xxunk , and it and it were to be a xxunk xxunk xxmaj the movie .</td>\n",
              "    </tr>\n",
              "    <tr>\n",
              "      <td>as every low budget production does , it is a good start for xxmaj ms. xxmaj xxunk and her company</td>\n",
              "      <td>. \\n \\n  xxmaj the story is not terribly new having been done in films like xxmaj the xxmaj</td>\n",
              "      <td>is xxmaj xxmaj xxunk xxmaj is a a original , been written in the like xxmaj xxunk xxmaj xxunk xxmaj</td>\n",
              "    </tr>\n",
              "    <tr>\n",
              "      <td>unhappy xxunk . xxmaj kyle xxunk xxmaj xxunk xxmaj mitch xxunk xxmaj hudson ) are xxunk friends with different looks</td>\n",
              "      <td>on life . xxmaj kyle is the xxunk son of an oil xxunk ; xxmaj mitch works for the xxmaj</td>\n",
              "      <td>and the . xxmaj the xxmaj a xxunk of of xxmaj old who who xxmaj xxunk xxmaj as the xxunk</td>\n",
              "    </tr>\n",
              "    <tr>\n",
              "      <td>it all looks cheap and never comes close to the standards of our xxmaj russian men and women of the</td>\n",
              "      <td>early 19th century . \\n \\n  a good piece of entertainment to xxunk and make fun of . xxmaj</td>\n",
              "      <td>xxmaj 1970s century . xxmaj xxmaj xxmaj movie of xxmaj is be the xxunk a of the xxmaj it are</td>\n",
              "    </tr>\n",
              "  </tbody>\n",
              "</table>"
            ],
            "text/plain": [
              "<IPython.core.display.HTML object>"
            ]
          },
          "metadata": {
            "tags": []
          }
        }
      ]
    },
    {
      "cell_type": "code",
      "metadata": {
        "id": "-bsqrFrt5BeD",
        "colab_type": "code",
        "colab": {
          "base_uri": "https://localhost:8080/",
          "height": 70
        },
        "outputId": "dfa38b3c-c23d-4d8e-d414-0a65dfbf3cb6"
      },
      "source": [
        "learn.predict('When I saw this movie the second time', 100)\n"
      ],
      "execution_count": 12,
      "outputs": [
        {
          "output_type": "execute_result",
          "data": {
            "application/vnd.google.colaboratory.intrinsic+json": {
              "type": "string"
            },
            "text/plain": [
              "\"When I saw this movie the second time i was seen , you thought it . What is next ! It 's like , \\n \\n  This is one of the worst movies on earth , and it almost captures U.s. and nature , so it looks like a German movie . And it looks like a 3D game . The best thing is the realism ! It is same in that we live on the earth . Yes , not considering that it 's last for there . Not even . No more editing .\""
            ]
          },
          "metadata": {
            "tags": []
          },
          "execution_count": 12
        }
      ]
    },
    {
      "cell_type": "code",
      "metadata": {
        "id": "UX2THx9V5BeG",
        "colab_type": "code",
        "colab": {
          "base_uri": "https://localhost:8080/",
          "height": 87
        },
        "outputId": "2f0f130a-6629-4364-849f-0970bad46101"
      },
      "source": [
        "learn.predict('As I was going up the stair I met a man who wasn\\'t there.', 100)"
      ],
      "execution_count": 13,
      "outputs": [
        {
          "output_type": "execute_result",
          "data": {
            "application/vnd.google.colaboratory.intrinsic+json": {
              "type": "string"
            },
            "text/plain": [
              "'As I was going up the stair I met a man who wasn\\'t there. He was a bunch of kinds , and the human journey looked like a broken Corpse Works , someone vulnerable the South . \" Here is a girl named Elliot who is talking about this summer finding funny flicks . i read this movie and stumbles on the back of 10 TRICK . Besides , only i guess . But when i was first told about the formula scene he did not give a high note . That was it ... i was disappointing . Anyone played this film'"
            ]
          },
          "metadata": {
            "tags": []
          },
          "execution_count": 13
        }
      ]
    },
    {
      "cell_type": "markdown",
      "metadata": {
        "id": "lUZmWMtE5BeJ",
        "colab_type": "text"
      },
      "source": [
        "Learning rate hyper-parameter is one of the most important parameters to train a model. Fast.ai provides a convenient utility (learn.lr_find) to search through a range of learning rates to find the optimum one for our dataset. Learning rate finder will increase the learning rate after each mini-batch. Eventually, the learning rate is too high that loss will get worse. Now look at the plot of learning rate against loss and determine the lowest point (around 1e-1 for the plot below) and go back by one magnitude and choose that as a learning rate (something around 1e-2)."
      ]
    },
    {
      "cell_type": "markdown",
      "metadata": {
        "id": "s1Wf0rQG5BeK",
        "colab_type": "text"
      },
      "source": [
        "### Classification"
      ]
    },
    {
      "cell_type": "markdown",
      "metadata": {
        "id": "F3_u3_wx5BeL",
        "colab_type": "text"
      },
      "source": [
        "Now let's see a classification example. We have to use the same vocabulary as for the language model if we want to be able to use the encoder we saved."
      ]
    },
    {
      "cell_type": "code",
      "metadata": {
        "id": "mhggoqch5BeM",
        "colab_type": "code",
        "colab": {
          "base_uri": "https://localhost:8080/",
          "height": 17
        },
        "outputId": "366ae909-f842-495a-8531-45b8bb837cff"
      },
      "source": [
        "data_clas = (TextList.from_csv(imdb, 'texts.csv', cols='text', vocab=data_lm.vocab)\n",
        "                   .split_from_df(col='is_valid')\n",
        "                   .label_from_df(cols='label')\n",
        "                   .databunch(bs=42))"
      ],
      "execution_count": 14,
      "outputs": [
        {
          "output_type": "display_data",
          "data": {
            "text/html": [
              ""
            ],
            "text/plain": [
              "<IPython.core.display.HTML object>"
            ]
          },
          "metadata": {
            "tags": []
          }
        },
        {
          "output_type": "display_data",
          "data": {
            "text/html": [
              ""
            ],
            "text/plain": [
              "<IPython.core.display.HTML object>"
            ]
          },
          "metadata": {
            "tags": []
          }
        }
      ]
    },
    {
      "cell_type": "markdown",
      "metadata": {
        "id": "oaJBoRKi5BeP",
        "colab_type": "text"
      },
      "source": [
        "Here show_batch shows the beginning of each review with its target."
      ]
    },
    {
      "cell_type": "code",
      "metadata": {
        "id": "Gdj9cs2-5BeP",
        "colab_type": "code",
        "colab": {
          "base_uri": "https://localhost:8080/",
          "height": 289
        },
        "outputId": "6a1f6055-bd33-4324-9523-44276bb222ed"
      },
      "source": [
        "data_clas.show_batch()"
      ],
      "execution_count": 15,
      "outputs": [
        {
          "output_type": "display_data",
          "data": {
            "text/html": [
              "<table border=\"1\" class=\"dataframe\">\n",
              "  <thead>\n",
              "    <tr style=\"text-align: right;\">\n",
              "      <th>text</th>\n",
              "      <th>target</th>\n",
              "    </tr>\n",
              "  </thead>\n",
              "  <tbody>\n",
              "    <tr>\n",
              "      <td>xxbos xxmaj raising xxmaj victor xxmaj vargas : a xxmaj review \\n \\n  xxmaj you know , xxmaj raising xxmaj victor xxmaj vargas is like sticking your hands into a big , xxunk bowl of xxunk . xxmaj it 's warm and gooey , but you 're not sure if it feels right . xxmaj try as i might , no matter how warm and gooey xxmaj raising xxmaj</td>\n",
              "      <td>negative</td>\n",
              "    </tr>\n",
              "    <tr>\n",
              "      <td>xxbos xxup the xxup shop xxup around xxup the xxup corner is one of the xxunk and most feel - good romantic comedies ever made . xxmaj there 's just no getting around that , and it 's hard to actually put one 's feeling for this film into words . xxmaj it 's not one of those films that tries too hard , nor does it come up with</td>\n",
              "      <td>positive</td>\n",
              "    </tr>\n",
              "    <tr>\n",
              "      <td>xxbos xxmaj now that xxmaj xxunk ) has finished its relatively short xxmaj australian cinema run ( extremely limited xxunk screen in xxmaj xxunk , after xxunk ) , i can xxunk join both xxunk of \" xxmaj at xxmaj the xxmaj movies \" in taking xxmaj steven xxmaj xxunk to task . \\n \\n  xxmaj it 's usually satisfying to watch a film director change his style /</td>\n",
              "      <td>negative</td>\n",
              "    </tr>\n",
              "    <tr>\n",
              "      <td>xxbos xxmaj this film sat on my xxmaj xxunk for weeks before i watched it . i xxunk a self - indulgent xxunk flick about relationships gone bad . i was wrong ; this was an xxunk xxunk into the screwed - up xxunk of xxmaj new xxmaj xxunk . \\n \\n  xxmaj the format is the same as xxmaj max xxmaj xxunk ' \" xxmaj la xxmaj xxunk</td>\n",
              "      <td>positive</td>\n",
              "    </tr>\n",
              "    <tr>\n",
              "      <td>xxbos xxmaj many neglect that this is n't just a classic due to the fact that it 's the first xxup 3d game , or even the first xxunk - up . xxmaj it 's also one of the first xxunk games , one of the xxunk definitely the first ) truly claustrophobic games , and just a pretty well - xxunk gaming experience in general . xxmaj with graphics</td>\n",
              "      <td>positive</td>\n",
              "    </tr>\n",
              "  </tbody>\n",
              "</table>"
            ],
            "text/plain": [
              "<IPython.core.display.HTML object>"
            ]
          },
          "metadata": {
            "tags": []
          }
        }
      ]
    },
    {
      "cell_type": "markdown",
      "metadata": {
        "id": "5fY1TZv_5BeS",
        "colab_type": "text"
      },
      "source": [
        "And we can train a classifier that uses our previous encoder."
      ]
    },
    {
      "cell_type": "code",
      "metadata": {
        "id": "HObRIdSP5BeV",
        "colab_type": "code",
        "colab": {
          "base_uri": "https://localhost:8080/",
          "height": 233
        },
        "outputId": "4465728b-a078-46cb-bc0e-9f1bd0e02120"
      },
      "source": [
        "learn_cl = text_classifier_learner(data_clas, AWD_LSTM, drop_mult=0.5)\n",
        "learn_cl.load_encoder('mini_train_encoder')\n",
        "learn_cl.fit_one_cycle(6, slice(1e-3,1e-2))\n",
        "learn_cl.save('mini_train_clas')"
      ],
      "execution_count": 16,
      "outputs": [
        {
          "output_type": "display_data",
          "data": {
            "text/html": [
              "<table border=\"1\" class=\"dataframe\">\n",
              "  <thead>\n",
              "    <tr style=\"text-align: left;\">\n",
              "      <th>epoch</th>\n",
              "      <th>train_loss</th>\n",
              "      <th>valid_loss</th>\n",
              "      <th>accuracy</th>\n",
              "      <th>time</th>\n",
              "    </tr>\n",
              "  </thead>\n",
              "  <tbody>\n",
              "    <tr>\n",
              "      <td>0</td>\n",
              "      <td>0.599678</td>\n",
              "      <td>0.604478</td>\n",
              "      <td>0.715000</td>\n",
              "      <td>00:16</td>\n",
              "    </tr>\n",
              "    <tr>\n",
              "      <td>1</td>\n",
              "      <td>0.543389</td>\n",
              "      <td>0.583306</td>\n",
              "      <td>0.635000</td>\n",
              "      <td>00:17</td>\n",
              "    </tr>\n",
              "    <tr>\n",
              "      <td>2</td>\n",
              "      <td>0.512465</td>\n",
              "      <td>0.606270</td>\n",
              "      <td>0.690000</td>\n",
              "      <td>00:18</td>\n",
              "    </tr>\n",
              "    <tr>\n",
              "      <td>3</td>\n",
              "      <td>0.471151</td>\n",
              "      <td>0.542017</td>\n",
              "      <td>0.705000</td>\n",
              "      <td>00:17</td>\n",
              "    </tr>\n",
              "    <tr>\n",
              "      <td>4</td>\n",
              "      <td>0.453810</td>\n",
              "      <td>0.534058</td>\n",
              "      <td>0.705000</td>\n",
              "      <td>00:17</td>\n",
              "    </tr>\n",
              "    <tr>\n",
              "      <td>5</td>\n",
              "      <td>0.429361</td>\n",
              "      <td>0.532531</td>\n",
              "      <td>0.700000</td>\n",
              "      <td>00:18</td>\n",
              "    </tr>\n",
              "  </tbody>\n",
              "</table>"
            ],
            "text/plain": [
              "<IPython.core.display.HTML object>"
            ]
          },
          "metadata": {
            "tags": []
          }
        }
      ]
    },
    {
      "cell_type": "markdown",
      "metadata": {
        "id": "Vqr2vXSs5BeY",
        "colab_type": "text"
      },
      "source": [
        "**Momentum**  \n",
        "There is one more argument(moms=(0.8,0.7))﹣momentums equals 0.8,0.7. Basically for training recurrent neural networks (RNNs), it really helps to decrease the momentum a little bit.The right side above is the momentum plot. Every time our learning rate is small, our momentum is high. Why is that? Because as you are learning small learning rate, but you keep going in the same direction, you may as well go faster (higher momentum). But as you are learning high learning rate, but you keep going in the same direction, you may overshoot the target, so momentum should be slowed. This trick can help you train 10 times faster."
      ]
    },
    {
      "cell_type": "code",
      "metadata": {
        "id": "EAtl-UFK5BeY",
        "colab_type": "code",
        "colab": {
          "base_uri": "https://localhost:8080/",
          "height": 110
        },
        "outputId": "ba91e737-eeea-4bc1-ce2b-4cc1cb450c00"
      },
      "source": [
        "learn_cl.fit_one_cycle(2, slice(1e-3,1e-2), moms=(0.8, 0.7))"
      ],
      "execution_count": 17,
      "outputs": [
        {
          "output_type": "display_data",
          "data": {
            "text/html": [
              "<table border=\"1\" class=\"dataframe\">\n",
              "  <thead>\n",
              "    <tr style=\"text-align: left;\">\n",
              "      <th>epoch</th>\n",
              "      <th>train_loss</th>\n",
              "      <th>valid_loss</th>\n",
              "      <th>accuracy</th>\n",
              "      <th>time</th>\n",
              "    </tr>\n",
              "  </thead>\n",
              "  <tbody>\n",
              "    <tr>\n",
              "      <td>0</td>\n",
              "      <td>0.369112</td>\n",
              "      <td>0.676978</td>\n",
              "      <td>0.665000</td>\n",
              "      <td>00:16</td>\n",
              "    </tr>\n",
              "    <tr>\n",
              "      <td>1</td>\n",
              "      <td>0.385241</td>\n",
              "      <td>0.525412</td>\n",
              "      <td>0.720000</td>\n",
              "      <td>00:17</td>\n",
              "    </tr>\n",
              "  </tbody>\n",
              "</table>"
            ],
            "text/plain": [
              "<IPython.core.display.HTML object>"
            ]
          },
          "metadata": {
            "tags": []
          }
        }
      ]
    },
    {
      "cell_type": "code",
      "metadata": {
        "id": "AssSMvYt5Beb",
        "colab_type": "code",
        "colab": {
          "base_uri": "https://localhost:8080/",
          "height": 279
        },
        "outputId": "3ae96d2c-2b77-4a2c-a388-8c5e549cc601"
      },
      "source": [
        "learn_cl.recorder.plot_losses()"
      ],
      "execution_count": 18,
      "outputs": [
        {
          "output_type": "display_data",
          "data": {
            "image/png": "[encoded data removed]",
            "text/plain": [
              "<Figure size 432x288 with 1 Axes>"
            ]
          },
          "metadata": {
            "tags": [],
            "needs_background": "light"
          }
        }
      ]
    },
    {
      "cell_type": "code",
      "metadata": {
        "id": "MfBhxG_U5Bef",
        "colab_type": "code",
        "colab": {
          "base_uri": "https://localhost:8080/",
          "height": 358
        },
        "outputId": "52fec6db-b54d-4db3-caad-7574cac20484"
      },
      "source": [
        "learn_cl.show_results()"
      ],
      "execution_count": 19,
      "outputs": [
        {
          "output_type": "display_data",
          "data": {
            "text/html": [
              "<table border=\"1\" class=\"dataframe\">\n",
              "  <thead>\n",
              "    <tr style=\"text-align: right;\">\n",
              "      <th>text</th>\n",
              "      <th>target</th>\n",
              "      <th>prediction</th>\n",
              "    </tr>\n",
              "  </thead>\n",
              "  <tbody>\n",
              "    <tr>\n",
              "      <td>xxbos \\n \\n  i 'm sure things did n't exactly go the same way in the real life of xxmaj homer xxmaj hickam as they did in the film adaptation of his book , xxmaj rocket xxmaj boys , but the movie \" xxmaj october xxmaj sky \" ( an xxunk of the book 's title ) is good enough to stand alone . i have not read xxmaj</td>\n",
              "      <td>positive</td>\n",
              "      <td>positive</td>\n",
              "    </tr>\n",
              "    <tr>\n",
              "      <td>xxbos xxmaj to review this movie , i without any doubt would have to quote that memorable scene in xxmaj tarantino 's \" xxmaj pulp xxmaj fiction \" ( xxunk ) when xxmaj jules and xxmaj vincent are talking about xxmaj xxunk xxmaj wallace and what she does for a living . xxmaj jules tells xxmaj vincent that the \" xxmaj only thing she did worthwhile was pilot \" .</td>\n",
              "      <td>negative</td>\n",
              "      <td>negative</td>\n",
              "    </tr>\n",
              "    <tr>\n",
              "      <td>xxbos xxmaj how viewers react to this new \" adaption \" of xxmaj shirley xxmaj jackson 's book , which was promoted as xxup not being a remake of the original 1963 movie ( true enough ) , will be based , i suspect , on the following : those who were big fans of either the book or original movie are not going to think much of this one</td>\n",
              "      <td>negative</td>\n",
              "      <td>negative</td>\n",
              "    </tr>\n",
              "    <tr>\n",
              "      <td>xxbos xxmaj the trouble with the book , \" xxmaj memoirs of a xxmaj xxunk \" is that it had xxmaj japanese xxunk but underneath the xxunk it was all an xxmaj american man 's way of thinking . xxmaj reading the book is like watching a magnificent ballet with great music , sets , and costumes yet performed by xxunk animals dressed in those xxunk far from xxmaj japanese</td>\n",
              "      <td>negative</td>\n",
              "      <td>negative</td>\n",
              "    </tr>\n",
              "    <tr>\n",
              "      <td>xxbos xxmaj bonanza had a great cast of wonderful actors . xxmaj xxunk xxmaj xxunk , xxmaj pernell xxmaj whitaker , xxmaj michael xxmaj xxunk , xxmaj dan xxmaj blocker , and even xxmaj guy xxmaj williams ( as the cousin who was brought in for several episodes during 1964 to xxunk xxmaj adam when he was leaving the series ) . xxmaj the cast had chemistry , and they</td>\n",
              "      <td>positive</td>\n",
              "      <td>positive</td>\n",
              "    </tr>\n",
              "  </tbody>\n",
              "</table>"
            ],
            "text/plain": [
              "<IPython.core.display.HTML object>"
            ]
          },
          "metadata": {
            "tags": []
          }
        }
      ]
    },
    {
      "cell_type": "code",
      "metadata": {
        "id": "xEsxn3Dh5Bek",
        "colab_type": "code",
        "colab": {
          "base_uri": "https://localhost:8080/",
          "height": 311
        },
        "outputId": "2595d589-18fb-4250-a5e7-2109e8b50bff"
      },
      "source": [
        "preds, y, losses = learn_cl.get_preds(with_loss=True)\n",
        "interp = ClassificationInterpretation(learn_cl, preds, y, losses)\n",
        "interp.plot_confusion_matrix()"
      ],
      "execution_count": 20,
      "outputs": [
        {
          "output_type": "display_data",
          "data": {
            "text/html": [
              ""
            ],
            "text/plain": [
              "<IPython.core.display.HTML object>"
            ]
          },
          "metadata": {
            "tags": []
          }
        },
        {
          "output_type": "display_data",
          "data": {
            "image/png": "[encoded data removed]",
            "text/plain": [
              "<Figure size 432x288 with 1 Axes>"
            ]
          },
          "metadata": {
            "tags": [],
            "needs_background": "light"
          }
        }
      ]
    },
    {
      "cell_type": "markdown",
      "metadata": {
        "id": "KoK3ERry5Ben",
        "colab_type": "text"
      },
      "source": [
        "### Excercise\n",
        "Make sentiment predictions for 5 movie reviews from IMDB web site."
      ]
    },
    {
      "cell_type": "code",
      "metadata": {
        "id": "iyNQXe5E5Beo",
        "colab_type": "code",
        "colab": {
          "base_uri": "https://localhost:8080/",
          "height": 87
        },
        "outputId": "94fbf26c-62d2-4fe0-8314-9007fa03aab1"
      },
      "source": [
        "first_movie_review = learn.predict('This endlessly fascinating swirl ', 100)\n",
        "first_movie_review"
      ],
      "execution_count": 32,
      "outputs": [
        {
          "output_type": "execute_result",
          "data": {
            "application/vnd.google.colaboratory.intrinsic+json": {
              "type": "string"
            },
            "text/plain": [
              "'This endlessly fascinating swirl  back up , Reference to Complicated Winston and the lack of enthusiasm in the disastrous years of his fellow de Niro and always in TV . He asked the apparently who had received all this more fully , having bothered his father in death , and after missing less than thirteen years . The genuine sadness left me feeling sorry for the filmmakers , who are interested in Pace obviously . At first his great taste in English days came when he was great and his my friend Adrian'"
            ]
          },
          "metadata": {
            "tags": []
          },
          "execution_count": 32
        }
      ]
    },
    {
      "cell_type": "code",
      "metadata": {
        "id": "yKsdJTcBjKcI",
        "colab_type": "code",
        "colab": {
          "base_uri": "https://localhost:8080/",
          "height": 55
        },
        "outputId": "660366ad-1003-46ea-a4d9-0fe8e320130a"
      },
      "source": [
        "real_first_movie_review = print('This endlessly fascinating swirl of a film could have come only from Nolan, who blends the cerebral twistiness of Memento (his thriller that moves backward in time) with the spectacular action of his Batman megahit, The Dark Knight')"
      ],
      "execution_count": 31,
      "outputs": [
        {
          "output_type": "stream",
          "text": [
            "This endlessly fascinating swirl of a film could have come only from Nolan, who blends the cerebral twistiness of Memento (his thriller that moves backward in time) with the spectacular action of his Batman megahit, The Dark Knight\n"
          ],
          "name": "stdout"
        }
      ]
    },
    {
      "cell_type": "code",
      "metadata": {
        "id": "njzv_MatgO-d",
        "colab_type": "code",
        "colab": {
          "base_uri": "https://localhost:8080/",
          "height": 35
        },
        "outputId": "752660ef-e861-48bd-99f5-707dcf43106c"
      },
      "source": [
        "second_movie_quote= learn.predict('The greatest trick the Devil ever pulled', 14)\n",
        "second_movie_quote"
      ],
      "execution_count": 35,
      "outputs": [
        {
          "output_type": "execute_result",
          "data": {
            "application/vnd.google.colaboratory.intrinsic+json": {
              "type": "string"
            },
            "text/plain": [
              "'The greatest trick the Devil ever pulled is from the background laws of the German Revolution when he died'"
            ]
          },
          "metadata": {
            "tags": []
          },
          "execution_count": 35
        }
      ]
    },
    {
      "cell_type": "code",
      "metadata": {
        "id": "uT2nPOXnoGAC",
        "colab_type": "code",
        "colab": {
          "base_uri": "https://localhost:8080/",
          "height": 35
        },
        "outputId": "a1ba9cf0-13f2-49f9-936a-e86be40edb9f"
      },
      "source": [
        "real_second_quote = print(\"The greatest trick the Devil ever pulled was convincing the world he didn't exist\")"
      ],
      "execution_count": 36,
      "outputs": [
        {
          "output_type": "stream",
          "text": [
            "The greatest trick the Devil ever pulled was convincing the world he didn't exist\n"
          ],
          "name": "stdout"
        }
      ]
    },
    {
      "cell_type": "code",
      "metadata": {
        "id": "Z9bQNzAWhIdK",
        "colab_type": "code",
        "colab": {
          "base_uri": "https://localhost:8080/",
          "height": 53
        },
        "outputId": "6dad2c66-8867-45e8-b176-dc6419832fff"
      },
      "source": [
        "third_movie_review = learn.predict('Overall, the film is one of a kind,',35)\n",
        "third_movie_review"
      ],
      "execution_count": 38,
      "outputs": [
        {
          "output_type": "execute_result",
          "data": {
            "application/vnd.google.colaboratory.intrinsic+json": {
              "type": "string"
            },
            "text/plain": [
              "\"Overall, the film is one of a kind, but it is not a low - budget films , but other English films are n't . Unfortunately watching this movie 've , with a conflict with director Tom Hanks ,\""
            ]
          },
          "metadata": {
            "tags": []
          },
          "execution_count": 38
        }
      ]
    },
    {
      "cell_type": "code",
      "metadata": {
        "id": "5EtA3QrOimrI",
        "colab_type": "code",
        "colab": {
          "base_uri": "https://localhost:8080/",
          "height": 55
        },
        "outputId": "9ca1f0ee-d9c6-4d2f-e4da-8e000883ff41"
      },
      "source": [
        "real_third_movie_review = print('Overall, the film is one of a kind, a masterpiece and a work of art so to speak. The superior musical score that accompanies the film heightens the suspense and adds to the mystery sequences.')"
      ],
      "execution_count": 39,
      "outputs": [
        {
          "output_type": "stream",
          "text": [
            "Overall, the film is one of a kind, a masterpiece and a work of art so to speak. The superior musical score that accompanies the film heightens the suspense and adds to the mystery sequences.\n"
          ],
          "name": "stdout"
        }
      ]
    },
    {
      "cell_type": "code",
      "metadata": {
        "id": "sQhLO_WDpTCd",
        "colab_type": "code",
        "colab": {
          "base_uri": "https://localhost:8080/",
          "height": 53
        },
        "outputId": "35c2b598-d7cc-4663-b440-4b346a9025fc"
      },
      "source": [
        "fourth_movie_review = learn.predict('Nolan masterfully weaves', 28)\n",
        "fourth_movie_review"
      ],
      "execution_count": 40,
      "outputs": [
        {
          "output_type": "execute_result",
          "data": {
            "application/vnd.google.colaboratory.intrinsic+json": {
              "type": "string"
            },
            "text/plain": [
              "\"Nolan masterfully weaves over this budget of his youth with those of Nolan 's FANFAN early 3D versions , his his greatest complaint for the seventies and whether\""
            ]
          },
          "metadata": {
            "tags": []
          },
          "execution_count": 40
        }
      ]
    },
    {
      "cell_type": "code",
      "metadata": {
        "id": "oT98BNADq6nP",
        "colab_type": "code",
        "colab": {
          "base_uri": "https://localhost:8080/",
          "height": 55
        },
        "outputId": "e58f686f-dc6b-4686-d54b-cb233c5dc1f5"
      },
      "source": [
        "real_fourth_review = print('Nolan masterfully weaves all these elements together, creating a second act that is breathtaking, suspenseful and thought-provoking...unfortunately, it takes us a good hour for us to get there.')"
      ],
      "execution_count": 41,
      "outputs": [
        {
          "output_type": "stream",
          "text": [
            "Nolan masterfully weaves all these elements together, creating a second act that is breathtaking, suspenseful and thought-provoking...unfortunately, it takes us a good hour for us to get there.\n"
          ],
          "name": "stdout"
        }
      ]
    },
    {
      "cell_type": "code",
      "metadata": {
        "id": "Fc3_pEK5rCIK",
        "colab_type": "code",
        "colab": {
          "base_uri": "https://localhost:8080/",
          "height": 35
        },
        "outputId": "d8f74baa-a1bc-40ff-f894-cf18d5673e52"
      },
      "source": [
        "fifth_movie_review = learn.predict('Infused with',27)\n",
        "fifth_movie_review"
      ],
      "execution_count": 45,
      "outputs": [
        {
          "output_type": "execute_result",
          "data": {
            "application/vnd.google.colaboratory.intrinsic+json": {
              "type": "string"
            },
            "text/plain": [
              "'Infused with the concept \\' \" formula snakes \" \\' , innocence in fear and violence towards the ordinary people is the one he uses perfectly him .'"
            ]
          },
          "metadata": {
            "tags": []
          },
          "execution_count": 45
        }
      ]
    },
    {
      "cell_type": "code",
      "metadata": {
        "id": "p41f_h4frrTR",
        "colab_type": "code",
        "colab": {
          "base_uri": "https://localhost:8080/",
          "height": 35
        },
        "outputId": "d7c7207e-ca9a-4fa2-ad77-fc21a874c84b"
      },
      "source": [
        "real_fifth_movie_review = print('Infused with his trademark wit, the film is hilarious at times but also carries with it more complex undertones. Benjamin is a gorgeous little film.')"
      ],
      "execution_count": 44,
      "outputs": [
        {
          "output_type": "stream",
          "text": [
            "Infused with his trademark wit, the film is hilarious at times but also carries with it more complex undertones. Benjamin is a gorgeous little film.\n"
          ],
          "name": "stdout"
        }
      ]
    },
    {
      "cell_type": "code",
      "metadata": {
        "id": "Dq_845hvr22l",
        "colab_type": "code",
        "colab": {}
      },
      "source": [
        ""
      ],
      "execution_count": null,
      "outputs": []
    }
  ]
}
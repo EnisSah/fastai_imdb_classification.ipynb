{
  "nbformat": 4,
  "nbformat_minor": 0,
  "metadata": {
    "kernelspec": {
      "display_name": "Python 3",
      "language": "python",
      "name": "python3"
    },
    "language_info": {
      "codemirror_mode": {
        "name": "ipython",
        "version": 3
      },
      "file_extension": ".py",
      "mimetype": "text/x-python",
      "name": "python",
      "nbconvert_exporter": "python",
      "pygments_lexer": "ipython3",
      "version": "3.6.5"
    },
    "colab": {
      "name": "11_fastai_imdb_classification.ipynb",
      "provenance": [],
      "collapsed_sections": [],
      "include_colab_link": true
    },
    "accelerator": "GPU"
  },
  "cells": [
    {
      "cell_type": "markdown",
      "metadata": {
        "id": "view-in-github",
        "colab_type": "text"
      },
      "source": [
        "<a href=\"https://colab.research.google.com/github/EnisSah/fastai_imdb_classification.ipynb/blob/master/11_fastai_imdb_classification.ipynb\" target=\"_parent\"><img src=\"https://colab.research.google.com/assets/colab-badge.svg\" alt=\"Open In Colab\"/></a>"
      ]
    },
    {
      "cell_type": "code",
      "metadata": {
        "hide_input": true,
        "id": "gQUFkOEt5Bct",
        "colab_type": "code",
        "colab": {}
      },
      "source": [
        "from fastai.basics import *\n",
        "from fastai.gen_doc.nbdoc import *"
      ],
      "execution_count": 2,
      "outputs": []
    },
    {
      "cell_type": "code",
      "metadata": {
        "id": "Wy13E4Z95BdV",
        "colab_type": "code",
        "colab": {
          "base_uri": "https://localhost:8080/",
          "height": 35
        },
        "outputId": "fded72da-8e0d-4d47-abcb-b143bbca4c39"
      },
      "source": [
        "import fastai\n",
        "from fastai.version import __version__\n",
        "print(__version__)"
      ],
      "execution_count": 3,
      "outputs": [
        {
          "output_type": "stream",
          "text": [
            "1.0.61\n"
          ],
          "name": "stdout"
        }
      ]
    },
    {
      "cell_type": "markdown",
      "metadata": {
        "id": "MkD_JoEC5Bdc",
        "colab_type": "text"
      },
      "source": [
        "## Text"
      ]
    },
    {
      "cell_type": "markdown",
      "metadata": {
        "id": "4nWhPZ2B5Bdd",
        "colab_type": "text"
      },
      "source": [
        "Next application is text, so let's start by importing everything we'll need."
      ]
    },
    {
      "cell_type": "code",
      "metadata": {
        "id": "gVlon61S5Bde",
        "colab_type": "code",
        "colab": {}
      },
      "source": [
        "from fastai.text import *"
      ],
      "execution_count": 4,
      "outputs": []
    },
    {
      "cell_type": "markdown",
      "metadata": {
        "id": "tLgrItHW5Bdh",
        "colab_type": "text"
      },
      "source": [
        "### Language modelling"
      ]
    },
    {
      "cell_type": "markdown",
      "metadata": {
        "id": "EZ4fzVpX5Bdh",
        "colab_type": "text"
      },
      "source": [
        "First we'll fine-tune a pretrained language model on our subset of imdb."
      ]
    },
    {
      "cell_type": "code",
      "metadata": {
        "id": "wEOdZOrD5Bdi",
        "colab_type": "code",
        "colab": {
          "base_uri": "https://localhost:8080/",
          "height": 35
        },
        "outputId": "d97a4c19-4662-4631-f013-ada13cd9a526"
      },
      "source": [
        "imdb = untar_data(URLs.IMDB_SAMPLE)"
      ],
      "execution_count": 5,
      "outputs": [
        {
          "output_type": "stream",
          "text": [
            "Downloading http://files.fast.ai/data/examples/imdb_sample.tgz\n"
          ],
          "name": "stdout"
        },
        {
          "output_type": "display_data",
          "data": {
            "text/html": [
              ""
            ],
            "text/plain": [
              "<IPython.core.display.HTML object>"
            ]
          },
          "metadata": {
            "tags": []
          }
        }
      ]
    },
    {
      "cell_type": "code",
      "metadata": {
        "id": "H8c67OHM5Bdm",
        "colab_type": "code",
        "colab": {
          "base_uri": "https://localhost:8080/",
          "height": 17
        },
        "outputId": "3cd1b616-3147-4e72-9ac6-ecbafa444b20"
      },
      "source": [
        "data_lm = (TextList.from_csv(imdb, 'texts.csv', cols='text')\n",
        "                   .split_by_rand_pct()\n",
        "                   .label_for_lm()  # Language model does not need labels\n",
        "                   .databunch())\n",
        "data_lm.save()"
      ],
      "execution_count": 6,
      "outputs": [
        {
          "output_type": "display_data",
          "data": {
            "text/html": [
              ""
            ],
            "text/plain": [
              "<IPython.core.display.HTML object>"
            ]
          },
          "metadata": {
            "tags": []
          }
        },
        {
          "output_type": "display_data",
          "data": {
            "text/html": [
              ""
            ],
            "text/plain": [
              "<IPython.core.display.HTML object>"
            ]
          },
          "metadata": {
            "tags": []
          }
        }
      ]
    },
    {
      "cell_type": "markdown",
      "metadata": {
        "id": "3ZdOqFBc5Bdq",
        "colab_type": "text"
      },
      "source": [
        "`data.show_batch()` will work here as well. For a language model, it shows us the beginning of each sequence of text along the batch dimension (the target being to guess the next word)."
      ]
    },
    {
      "cell_type": "code",
      "metadata": {
        "id": "rNt14Nvd5Bdr",
        "colab_type": "code",
        "colab": {
          "base_uri": "https://localhost:8080/",
          "height": 393
        },
        "outputId": "89bec3cc-46ae-4b47-8833-fbedf27123cd"
      },
      "source": [
        "data_lm.show_batch()"
      ],
      "execution_count": 7,
      "outputs": [
        {
          "output_type": "stream",
          "text": [
            "/usr/local/lib/python3.6/dist-packages/fastai/text/data.py:339: UserWarning: This overload of nonzero is deprecated:\n",
            "\tnonzero()\n",
            "Consider using one of the following signatures instead:\n",
            "\tnonzero(*, bool as_tuple) (Triggered internally at  /pytorch/torch/csrc/utils/python_arg_parser.cpp:766.)\n",
            "  idx_min = (t != self.pad_idx).nonzero().min()\n"
          ],
          "name": "stderr"
        },
        {
          "output_type": "display_data",
          "data": {
            "text/html": [
              "<table border=\"1\" class=\"dataframe\">\n",
              "  <thead>\n",
              "    <tr style=\"text-align: right;\">\n",
              "      <th>idx</th>\n",
              "      <th>text</th>\n",
              "    </tr>\n",
              "  </thead>\n",
              "  <tbody>\n",
              "    <tr>\n",
              "      <td>0</td>\n",
              "      <td>! ! ! xxmaj finally this was directed by the guy who did xxmaj big xxmaj xxunk ? xxmaj must be a xxunk of xxmaj jonestown - hollywood style . xxmaj xxunk ! xxbos xxmaj this is a extremely well - made film . xxmaj the acting , script and camera - work are all first - rate . xxmaj the music is good , too , though it is</td>\n",
              "    </tr>\n",
              "    <tr>\n",
              "      <td>1</td>\n",
              "      <td>very disappointed at this xxmaj spike xxmaj lee effort ! ! xxbos a really great movie and true story . xxmaj dan xxmaj jansen the xxmaj greatest xxunk ever . a touching and beautiful movie the whole family can enjoy . xxmaj the story of xxmaj jane xxmaj xxunk battle with cancer and xxmaj dan xxmaj jansen love for his sister . xxmaj of a important promise made by xxmaj</td>\n",
              "    </tr>\n",
              "    <tr>\n",
              "      <td>2</td>\n",
              "      <td>jokes , people getting xxunk , and the skit about the xxmaj president all make the movie one of the worst of all time . \\n \\n  xxmaj it 's a really bad film that you have to stay away from . xxmaj all the \" jokes \" are so juvenile that you will find yourself laughing because they are so stupid . xxmaj the plot is so bad</td>\n",
              "    </tr>\n",
              "    <tr>\n",
              "      <td>3</td>\n",
              "      <td>just like stepping into a comic book . xxmaj this is the movie i think of when the xxmaj mob is mentioned , the suits , the xxunk and the xxunk . \\n \\n  xxmaj hoffman gives comic relief as xxmaj xxunk and you ca n't help but feel sorry for xxmaj xxunk as she tries , and fails , to win xxmaj tracy over . xxmaj this movie</td>\n",
              "    </tr>\n",
              "    <tr>\n",
              "      <td>4</td>\n",
              "      <td>xxunk to xxmaj valjean and xxmaj cosette , he says the one line in the movie that set me screaming at the xxup tv set . \" xxmaj we are n't xxunk . \" i could hear xxmaj victor xxmaj hugo xxunk in his grave . xxup of xxup course xxup they xxup are xxup xxunk ! xxmaj they want to revolt against the pseudo - xxunk that is in</td>\n",
              "    </tr>\n",
              "  </tbody>\n",
              "</table>"
            ],
            "text/plain": [
              "<IPython.core.display.HTML object>"
            ]
          },
          "metadata": {
            "tags": []
          }
        }
      ]
    },
    {
      "cell_type": "code",
      "metadata": {
        "id": "g0my1gZE5Bdv",
        "colab_type": "code",
        "colab": {}
      },
      "source": [
        "# Special tokens\n",
        "# xxbos: Begining of a sentence\n",
        "# xxfld: Represent separate parts of a document like title, summary etc., each one will get a separate field and so they will get numbered (e.g. xxfld 1, xxfld 2).\n",
        "# xxup: If there's something in all caps, it gets lower cased and a token called xxup will get added to it. Words that are fully capitalized, such as “I AM SHOUTING”, are tokenized as “xxup i xxup am xxup shouting“\n",
        "# xxunk: token used instead of an uncommon word.\n",
        "# xxmaj: token indicates that there is capitalization of the word. “The” will be tokenized as “xxmaj the“.\n",
        "# xxrep: token indicates repeated word, if you have 29 ! in a row, (i.e. xxrep 29 !)."
      ],
      "execution_count": 8,
      "outputs": []
    },
    {
      "cell_type": "code",
      "metadata": {
        "id": "IL0wD2C45Bdz",
        "colab_type": "code",
        "colab": {
          "base_uri": "https://localhost:8080/",
          "height": 364
        },
        "outputId": "c26aa160-1b8f-4222-b23a-64b4920d06b0"
      },
      "source": [
        "data_lm.vocab.itos[:20]"
      ],
      "execution_count": 9,
      "outputs": [
        {
          "output_type": "execute_result",
          "data": {
            "text/plain": [
              "['xxunk',\n",
              " 'xxpad',\n",
              " 'xxbos',\n",
              " 'xxeos',\n",
              " 'xxfld',\n",
              " 'xxmaj',\n",
              " 'xxup',\n",
              " 'xxrep',\n",
              " 'xxwrep',\n",
              " 'the',\n",
              " ',',\n",
              " '.',\n",
              " 'and',\n",
              " 'a',\n",
              " 'of',\n",
              " 'to',\n",
              " 'is',\n",
              " 'it',\n",
              " 'in',\n",
              " 'i']"
            ]
          },
          "metadata": {
            "tags": []
          },
          "execution_count": 9
        }
      ]
    },
    {
      "cell_type": "markdown",
      "metadata": {
        "id": "2cXqz2Di5Bd2",
        "colab_type": "text"
      },
      "source": [
        "#### Numericalization\n",
        "Finally it is easier for machine to deal with the numbers so replace the tokens with the location of the token in the vocab:"
      ]
    },
    {
      "cell_type": "code",
      "metadata": {
        "id": "dx988QLO5Bd3",
        "colab_type": "code",
        "colab": {
          "base_uri": "https://localhost:8080/",
          "height": 35
        },
        "outputId": "236aa16c-0cfc-4981-a16d-9ccbaee61bd8"
      },
      "source": [
        "data_lm.train_ds[0][0].data[:10]"
      ],
      "execution_count": 10,
      "outputs": [
        {
          "output_type": "execute_result",
          "data": {
            "text/plain": [
              "array([  2,   5,   0,  24,   0,  24, 935,  54,   5,   0])"
            ]
          },
          "metadata": {
            "tags": []
          },
          "execution_count": 10
        }
      ]
    },
    {
      "cell_type": "markdown",
      "metadata": {
        "id": "yzec63Tl5Bd6",
        "colab_type": "text"
      },
      "source": [
        "The default vocab size is set to 60,000 words and min count for a word to be added to vocab is 2, to avoid getting the weight matrix huge."
      ]
    },
    {
      "cell_type": "markdown",
      "metadata": {
        "id": "HNTCb9P85Bd6",
        "colab_type": "text"
      },
      "source": [
        "Now let's define a language model learner. drop_mult - a hyper-parameter ,used for regularization, sets the amount of dropout. If the model is over-fitting increase it, if under-fitting, you can decrease the number."
      ]
    },
    {
      "cell_type": "code",
      "metadata": {
        "id": "jKydgcl95Bd7",
        "colab_type": "code",
        "colab": {
          "base_uri": "https://localhost:8080/",
          "height": 189
        },
        "outputId": "c60abc20-4edc-4cfa-e949-2e373ab412b7"
      },
      "source": [
        "learn = language_model_learner(data_lm, AWD_LSTM)\n",
        "learn.fit_one_cycle(4, 1e-2)\n",
        "learn.save('mini_train_lm')\n",
        "learn.save_encoder('mini_train_encoder')"
      ],
      "execution_count": 11,
      "outputs": [
        {
          "output_type": "stream",
          "text": [
            "Downloading https://s3.amazonaws.com/fast-ai-modelzoo/wt103-fwd.tgz\n"
          ],
          "name": "stdout"
        },
        {
          "output_type": "display_data",
          "data": {
            "text/html": [
              ""
            ],
            "text/plain": [
              "<IPython.core.display.HTML object>"
            ]
          },
          "metadata": {
            "tags": []
          }
        },
        {
          "output_type": "display_data",
          "data": {
            "text/html": [
              "<table border=\"1\" class=\"dataframe\">\n",
              "  <thead>\n",
              "    <tr style=\"text-align: left;\">\n",
              "      <th>epoch</th>\n",
              "      <th>train_loss</th>\n",
              "      <th>valid_loss</th>\n",
              "      <th>accuracy</th>\n",
              "      <th>time</th>\n",
              "    </tr>\n",
              "  </thead>\n",
              "  <tbody>\n",
              "    <tr>\n",
              "      <td>0</td>\n",
              "      <td>4.388712</td>\n",
              "      <td>3.761825</td>\n",
              "      <td>0.294628</td>\n",
              "      <td>00:09</td>\n",
              "    </tr>\n",
              "    <tr>\n",
              "      <td>1</td>\n",
              "      <td>4.139682</td>\n",
              "      <td>3.719764</td>\n",
              "      <td>0.297500</td>\n",
              "      <td>00:09</td>\n",
              "    </tr>\n",
              "    <tr>\n",
              "      <td>2</td>\n",
              "      <td>3.926246</td>\n",
              "      <td>3.712339</td>\n",
              "      <td>0.296935</td>\n",
              "      <td>00:09</td>\n",
              "    </tr>\n",
              "    <tr>\n",
              "      <td>3</td>\n",
              "      <td>3.765955</td>\n",
              "      <td>3.706908</td>\n",
              "      <td>0.297262</td>\n",
              "      <td>00:09</td>\n",
              "    </tr>\n",
              "  </tbody>\n",
              "</table>"
            ],
            "text/plain": [
              "<IPython.core.display.HTML object>"
            ]
          },
          "metadata": {
            "tags": []
          }
        }
      ]
    },
    {
      "cell_type": "markdown",
      "metadata": {
        "id": "EesR96G55Bd-",
        "colab_type": "text"
      },
      "source": [
        "Then we can have a look at the results. It shows a certain amount of words (default 20), then the next 20 target words and the ones that were predicted."
      ]
    },
    {
      "cell_type": "code",
      "metadata": {
        "id": "w5ullqjw5Bd_",
        "colab_type": "code",
        "colab": {
          "base_uri": "https://localhost:8080/",
          "height": 289
        },
        "outputId": "8ba2c47d-8407-49ef-95dd-0437fbeb9a8e"
      },
      "source": [
        "learn.show_results()"
      ],
      "execution_count": 12,
      "outputs": [
        {
          "output_type": "display_data",
          "data": {
            "text/html": [
              "<table border=\"1\" class=\"dataframe\">\n",
              "  <thead>\n",
              "    <tr style=\"text-align: right;\">\n",
              "      <th>text</th>\n",
              "      <th>target</th>\n",
              "      <th>pred</th>\n",
              "    </tr>\n",
              "  </thead>\n",
              "  <tbody>\n",
              "    <tr>\n",
              "      <td>xxbos i had heard good things about this film and was , you guessed it , a bit disappointed .</td>\n",
              "      <td>xxmaj xxunk xxmaj xxunk is as promised surprisingly good , surprisingly confident , at a young age ; really all</td>\n",
              "      <td>xxmaj it was xxunk , a good as well as but well , and the very age , xxmaj ,</td>\n",
              "    </tr>\n",
              "    <tr>\n",
              "      <td>especially offensive - the one in which xxmaj xxunk xxunk his tongue after being xxunk by another man ( could</td>\n",
              "      <td>it really have been that gross ) , and the scene where xxmaj eastwood is xxunk by xxmaj xxunk 's</td>\n",
              "      <td>have be be been a he out . but xxmaj xxunk was xxmaj al xxunk xxunk by xxmaj al 's</td>\n",
              "    </tr>\n",
              "    <tr>\n",
              "      <td>xxmaj willie was not ready to xxunk ( and has been forcing his nephew and agent , xxmaj ben (</td>\n",
              "      <td>xxmaj richard xxmaj xxunk ) to try to get him jobs in commercials . xxmaj but xxmaj willie ca n't</td>\n",
              "      <td>xxmaj xxunk xxmaj xxunk ) to xxunk to make his to ) the ) xxmaj but xxmaj xxunk xxmaj n't</td>\n",
              "    </tr>\n",
              "    <tr>\n",
              "      <td>was stuck in somewhat of a career xxunk by the time this one came along . xxmaj as with so</td>\n",
              "      <td>many early xxunk stars , it seemed that his time had come and gone , that he was fine for</td>\n",
              "      <td>many other xxmaj , , it was like the xxunk was been to he . and he was a ,</td>\n",
              "    </tr>\n",
              "    <tr>\n",
              "      <td>not completely insane , do n't see it . xxmaj please . xxbos xxmaj that xxmaj certain xxmaj thing is</td>\n",
              "      <td>the story of a gold xxunk ( xxmaj xxunk xxmaj dana ) from a xxunk house . xxmaj her mother</td>\n",
              "      <td>a best of a xxmaj xxunk , xxmaj xxunk ) xxunk ) , xxmaj xxmaj xxunk . xxmaj the xxunk</td>\n",
              "    </tr>\n",
              "  </tbody>\n",
              "</table>"
            ],
            "text/plain": [
              "<IPython.core.display.HTML object>"
            ]
          },
          "metadata": {
            "tags": []
          }
        }
      ]
    },
    {
      "cell_type": "code",
      "metadata": {
        "id": "-bsqrFrt5BeD",
        "colab_type": "code",
        "colab": {
          "base_uri": "https://localhost:8080/",
          "height": 87
        },
        "outputId": "49b58fc2-d1ce-43fd-b0a3-97ec5d0e14fb"
      },
      "source": [
        "learn.predict('When I saw this movie the second time', 100)\n"
      ],
      "execution_count": 13,
      "outputs": [
        {
          "output_type": "execute_result",
          "data": {
            "application/vnd.google.colaboratory.intrinsic+json": {
              "type": "string"
            },
            "text/plain": [
              "'When I saw this movie the second time i had seen it , i again sat on it . This is what makes me loved this movie . The old fashioned - of - acting calm and fresh live time ! The suspend of existence lets me out of control , certainly of course in cinema , as i was not very bad . This motion picture did not pay much however , i tense , seen nothing better , but it wanted to be shot amongst those very bad and realistic look . xxbos This is the best - known of these'"
            ]
          },
          "metadata": {
            "tags": []
          },
          "execution_count": 13
        }
      ]
    },
    {
      "cell_type": "code",
      "metadata": {
        "id": "UX2THx9V5BeG",
        "colab_type": "code",
        "colab": {
          "base_uri": "https://localhost:8080/",
          "height": 87
        },
        "outputId": "76ff0d32-aba0-4515-cda8-77972440a1f9"
      },
      "source": [
        "learn.predict('As I was going up the stair I met a man who wasn\\'t there.', 100)"
      ],
      "execution_count": 14,
      "outputs": [
        {
          "output_type": "execute_result",
          "data": {
            "application/vnd.google.colaboratory.intrinsic+json": {
              "type": "string"
            },
            "text/plain": [
              "\"As I was going up the stair I met a man who wasn't there. a single drunk at some point in the 80 's was a half - dozen if he were not in any way so high a man tried to sit through the graveyard or settle in half the woods . The plot was mediocre a movie as a drag main horribly miraculously file for me is thinks it does n't even exist . Some of the things are hungarian stuff topics are cheap . , every entry has a great plot . Although the first few show around about Everybody Lies is the problem that\""
            ]
          },
          "metadata": {
            "tags": []
          },
          "execution_count": 14
        }
      ]
    },
    {
      "cell_type": "markdown",
      "metadata": {
        "id": "lUZmWMtE5BeJ",
        "colab_type": "text"
      },
      "source": [
        "Learning rate hyper-parameter is one of the most important parameters to train a model. Fast.ai provides a convenient utility (learn.lr_find) to search through a range of learning rates to find the optimum one for our dataset. Learning rate finder will increase the learning rate after each mini-batch. Eventually, the learning rate is too high that loss will get worse. Now look at the plot of learning rate against loss and determine the lowest point (around 1e-1 for the plot below) and go back by one magnitude and choose that as a learning rate (something around 1e-2)."
      ]
    },
    {
      "cell_type": "markdown",
      "metadata": {
        "id": "s1Wf0rQG5BeK",
        "colab_type": "text"
      },
      "source": [
        "### Classification"
      ]
    },
    {
      "cell_type": "markdown",
      "metadata": {
        "id": "F3_u3_wx5BeL",
        "colab_type": "text"
      },
      "source": [
        "Now let's see a classification example. We have to use the same vocabulary as for the language model if we want to be able to use the encoder we saved."
      ]
    },
    {
      "cell_type": "code",
      "metadata": {
        "id": "mhggoqch5BeM",
        "colab_type": "code",
        "colab": {
          "base_uri": "https://localhost:8080/",
          "height": 17
        },
        "outputId": "5589a757-63d5-4429-908e-d36e05122c9e"
      },
      "source": [
        "data_clas = (TextList.from_csv(imdb, 'texts.csv', cols='text', vocab=data_lm.vocab)\n",
        "                   .split_from_df(col='is_valid')\n",
        "                   .label_from_df(cols='label')\n",
        "                   .databunch(bs=42))"
      ],
      "execution_count": 15,
      "outputs": [
        {
          "output_type": "display_data",
          "data": {
            "text/html": [
              ""
            ],
            "text/plain": [
              "<IPython.core.display.HTML object>"
            ]
          },
          "metadata": {
            "tags": []
          }
        },
        {
          "output_type": "display_data",
          "data": {
            "text/html": [
              ""
            ],
            "text/plain": [
              "<IPython.core.display.HTML object>"
            ]
          },
          "metadata": {
            "tags": []
          }
        }
      ]
    },
    {
      "cell_type": "markdown",
      "metadata": {
        "id": "oaJBoRKi5BeP",
        "colab_type": "text"
      },
      "source": [
        "Here show_batch shows the beginning of each review with its target."
      ]
    },
    {
      "cell_type": "code",
      "metadata": {
        "id": "Gdj9cs2-5BeP",
        "colab_type": "code",
        "colab": {
          "base_uri": "https://localhost:8080/",
          "height": 289
        },
        "outputId": "4093c774-14c0-4e93-f394-94940d7356d8"
      },
      "source": [
        "data_clas.show_batch()"
      ],
      "execution_count": 16,
      "outputs": [
        {
          "output_type": "display_data",
          "data": {
            "text/html": [
              "<table border=\"1\" class=\"dataframe\">\n",
              "  <thead>\n",
              "    <tr style=\"text-align: right;\">\n",
              "      <th>text</th>\n",
              "      <th>target</th>\n",
              "    </tr>\n",
              "  </thead>\n",
              "  <tbody>\n",
              "    <tr>\n",
              "      <td>xxbos xxmaj xxunk xxmaj victor xxmaj xxunk : a xxmaj review \\n \\n  xxmaj you know , xxmaj xxunk xxmaj victor xxmaj xxunk is like sticking your hands into a big , xxunk xxunk of xxunk . xxmaj it 's warm and xxunk , but you 're not sure if it feels right . xxmaj try as i might , no matter how warm and xxunk xxmaj xxunk xxmaj</td>\n",
              "      <td>negative</td>\n",
              "    </tr>\n",
              "    <tr>\n",
              "      <td>xxbos xxup the xxup shop xxup around xxup the xxup corner is one of the xxunk and most feel - good romantic comedies ever made . xxmaj there 's just no getting around that , and it 's hard to actually put one 's feeling for this film into words . xxmaj it 's not one of those films that tries too hard , nor does it come up with</td>\n",
              "      <td>positive</td>\n",
              "    </tr>\n",
              "    <tr>\n",
              "      <td>xxbos xxmaj now that xxmaj xxunk ) has finished its relatively short xxmaj australian cinema run ( extremely limited xxunk screen in xxmaj xxunk , after xxunk ) , i can xxunk join both xxunk of \" xxmaj at xxmaj the xxmaj movies \" in taking xxmaj steven xxmaj xxunk to task . \\n \\n  xxmaj it 's usually satisfying to watch a film director change his style /</td>\n",
              "      <td>negative</td>\n",
              "    </tr>\n",
              "    <tr>\n",
              "      <td>xxbos xxmaj this film sat on my xxmaj xxunk for weeks before i watched it . i xxunk a self - indulgent xxunk flick about relationships gone bad . i was wrong ; this was an xxunk xxunk into the xxunk - up xxunk of xxmaj new xxmaj xxunk . \\n \\n  xxmaj the format is the same as xxmaj max xxmaj xxunk ' \" xxmaj la xxmaj xxunk</td>\n",
              "      <td>positive</td>\n",
              "    </tr>\n",
              "    <tr>\n",
              "      <td>xxbos xxmaj many xxunk that this is n't just a classic due to the fact that it 's the first xxup 3d game , or even the first xxunk - up . xxmaj it 's also one of the first xxunk games , one of the xxunk definitely the first ) truly claustrophobic games , and just a pretty well - xxunk gaming experience in general . xxmaj with graphics</td>\n",
              "      <td>positive</td>\n",
              "    </tr>\n",
              "  </tbody>\n",
              "</table>"
            ],
            "text/plain": [
              "<IPython.core.display.HTML object>"
            ]
          },
          "metadata": {
            "tags": []
          }
        }
      ]
    },
    {
      "cell_type": "markdown",
      "metadata": {
        "id": "5fY1TZv_5BeS",
        "colab_type": "text"
      },
      "source": [
        "And we can train a classifier that uses our previous encoder."
      ]
    },
    {
      "cell_type": "code",
      "metadata": {
        "id": "HObRIdSP5BeV",
        "colab_type": "code",
        "colab": {
          "base_uri": "https://localhost:8080/",
          "height": 233
        },
        "outputId": "3e866f86-cb46-42b3-f265-b9f32f9d0761"
      },
      "source": [
        "learn_cl = text_classifier_learner(data_clas, AWD_LSTM, drop_mult=0.5)\n",
        "learn_cl.load_encoder('mini_train_encoder')\n",
        "learn_cl.fit_one_cycle(6, slice(1e-3,1e-2))\n",
        "learn_cl.save('mini_train_clas')"
      ],
      "execution_count": 17,
      "outputs": [
        {
          "output_type": "display_data",
          "data": {
            "text/html": [
              "<table border=\"1\" class=\"dataframe\">\n",
              "  <thead>\n",
              "    <tr style=\"text-align: left;\">\n",
              "      <th>epoch</th>\n",
              "      <th>train_loss</th>\n",
              "      <th>valid_loss</th>\n",
              "      <th>accuracy</th>\n",
              "      <th>time</th>\n",
              "    </tr>\n",
              "  </thead>\n",
              "  <tbody>\n",
              "    <tr>\n",
              "      <td>0</td>\n",
              "      <td>0.645639</td>\n",
              "      <td>0.631381</td>\n",
              "      <td>0.660000</td>\n",
              "      <td>00:07</td>\n",
              "    </tr>\n",
              "    <tr>\n",
              "      <td>1</td>\n",
              "      <td>0.554392</td>\n",
              "      <td>0.736741</td>\n",
              "      <td>0.605000</td>\n",
              "      <td>00:07</td>\n",
              "    </tr>\n",
              "    <tr>\n",
              "      <td>2</td>\n",
              "      <td>0.510266</td>\n",
              "      <td>0.485453</td>\n",
              "      <td>0.745000</td>\n",
              "      <td>00:08</td>\n",
              "    </tr>\n",
              "    <tr>\n",
              "      <td>3</td>\n",
              "      <td>0.470510</td>\n",
              "      <td>0.429310</td>\n",
              "      <td>0.790000</td>\n",
              "      <td>00:08</td>\n",
              "    </tr>\n",
              "    <tr>\n",
              "      <td>4</td>\n",
              "      <td>0.447449</td>\n",
              "      <td>0.484786</td>\n",
              "      <td>0.750000</td>\n",
              "      <td>00:08</td>\n",
              "    </tr>\n",
              "    <tr>\n",
              "      <td>5</td>\n",
              "      <td>0.426175</td>\n",
              "      <td>0.505177</td>\n",
              "      <td>0.740000</td>\n",
              "      <td>00:08</td>\n",
              "    </tr>\n",
              "  </tbody>\n",
              "</table>"
            ],
            "text/plain": [
              "<IPython.core.display.HTML object>"
            ]
          },
          "metadata": {
            "tags": []
          }
        }
      ]
    },
    {
      "cell_type": "markdown",
      "metadata": {
        "id": "Vqr2vXSs5BeY",
        "colab_type": "text"
      },
      "source": [
        "**Momentum**  \n",
        "There is one more argument(moms=(0.8,0.7))﹣momentums equals 0.8,0.7. Basically for training recurrent neural networks (RNNs), it really helps to decrease the momentum a little bit.The right side above is the momentum plot. Every time our learning rate is small, our momentum is high. Why is that? Because as you are learning small learning rate, but you keep going in the same direction, you may as well go faster (higher momentum). But as you are learning high learning rate, but you keep going in the same direction, you may overshoot the target, so momentum should be slowed. This trick can help you train 10 times faster."
      ]
    },
    {
      "cell_type": "code",
      "metadata": {
        "id": "EAtl-UFK5BeY",
        "colab_type": "code",
        "colab": {
          "base_uri": "https://localhost:8080/",
          "height": 110
        },
        "outputId": "b9a0f884-52b1-433f-f05d-e1bda62fbdd1"
      },
      "source": [
        "learn_cl.fit_one_cycle(2, slice(1e-3,1e-2), moms=(0.8, 0.7))"
      ],
      "execution_count": 18,
      "outputs": [
        {
          "output_type": "display_data",
          "data": {
            "text/html": [
              "<table border=\"1\" class=\"dataframe\">\n",
              "  <thead>\n",
              "    <tr style=\"text-align: left;\">\n",
              "      <th>epoch</th>\n",
              "      <th>train_loss</th>\n",
              "      <th>valid_loss</th>\n",
              "      <th>accuracy</th>\n",
              "      <th>time</th>\n",
              "    </tr>\n",
              "  </thead>\n",
              "  <tbody>\n",
              "    <tr>\n",
              "      <td>0</td>\n",
              "      <td>0.380399</td>\n",
              "      <td>0.572213</td>\n",
              "      <td>0.740000</td>\n",
              "      <td>00:07</td>\n",
              "    </tr>\n",
              "    <tr>\n",
              "      <td>1</td>\n",
              "      <td>0.379248</td>\n",
              "      <td>0.561646</td>\n",
              "      <td>0.735000</td>\n",
              "      <td>00:08</td>\n",
              "    </tr>\n",
              "  </tbody>\n",
              "</table>"
            ],
            "text/plain": [
              "<IPython.core.display.HTML object>"
            ]
          },
          "metadata": {
            "tags": []
          }
        }
      ]
    },
    {
      "cell_type": "code",
      "metadata": {
        "id": "AssSMvYt5Beb",
        "colab_type": "code",
        "colab": {
          "base_uri": "https://localhost:8080/",
          "height": 279
        },
        "outputId": "e8d00058-af8b-4618-b3f9-658616f9ecac"
      },
      "source": [
        "learn_cl.recorder.plot_losses()"
      ],
      "execution_count": 19,
      "outputs": [
        {
          "output_type": "display_data",
          "data": {
            "image/png": "[encoded data removed]",
            "text/plain": [
              "<Figure size 432x288 with 1 Axes>"
            ]
          },
          "metadata": {
            "tags": [],
            "needs_background": "light"
          }
        }
      ]
    },
    {
      "cell_type": "code",
      "metadata": {
        "id": "MfBhxG_U5Bef",
        "colab_type": "code",
        "colab": {
          "base_uri": "https://localhost:8080/",
          "height": 358
        },
        "outputId": "a0bed1bb-acea-4e9d-89a1-68df708978cd"
      },
      "source": [
        "learn_cl.show_results()"
      ],
      "execution_count": 20,
      "outputs": [
        {
          "output_type": "display_data",
          "data": {
            "text/html": [
              "<table border=\"1\" class=\"dataframe\">\n",
              "  <thead>\n",
              "    <tr style=\"text-align: right;\">\n",
              "      <th>text</th>\n",
              "      <th>target</th>\n",
              "      <th>prediction</th>\n",
              "    </tr>\n",
              "  </thead>\n",
              "  <tbody>\n",
              "    <tr>\n",
              "      <td>xxbos \\n \\n  i 'm sure things did n't exactly go the same way in the real life of xxmaj homer xxmaj hickam as they did in the film adaptation of his book , xxmaj rocket xxmaj boys , but the movie \" xxmaj october xxmaj sky \" ( an xxunk of the book 's title ) is good enough to stand alone . i have not read xxmaj</td>\n",
              "      <td>positive</td>\n",
              "      <td>positive</td>\n",
              "    </tr>\n",
              "    <tr>\n",
              "      <td>xxbos xxmaj to review this movie , i without any doubt would have to quote that memorable scene in xxmaj tarantino 's \" xxmaj pulp xxmaj fiction \" ( xxunk ) when xxmaj jules and xxmaj vincent are talking about xxmaj mia xxmaj wallace and what she does for a living . xxmaj jules tells xxmaj vincent that the \" xxmaj only thing she did worthwhile was pilot \" .</td>\n",
              "      <td>negative</td>\n",
              "      <td>negative</td>\n",
              "    </tr>\n",
              "    <tr>\n",
              "      <td>xxbos xxmaj how viewers react to this new \" adaption \" of xxmaj shirley xxmaj jackson 's book , which was promoted as xxup not being a remake of the original 1963 movie ( true enough ) , will be based , i suspect , on the following : those who were big fans of either the book or original movie are not going to think much of this one</td>\n",
              "      <td>negative</td>\n",
              "      <td>negative</td>\n",
              "    </tr>\n",
              "    <tr>\n",
              "      <td>xxbos xxmaj the trouble with the book , \" xxmaj memoirs of a xxmaj geisha \" is that it had xxmaj japanese xxunk but underneath the xxunk it was all an xxmaj american man 's way of thinking . xxmaj reading the book is like watching a magnificent ballet with great music , sets , and costumes yet performed by xxunk animals dressed in those xxunk far from xxmaj japanese</td>\n",
              "      <td>negative</td>\n",
              "      <td>negative</td>\n",
              "    </tr>\n",
              "    <tr>\n",
              "      <td>xxbos xxmaj bonanza had a great cast of wonderful actors . xxmaj xxunk xxmaj xxunk , xxmaj pernell xxmaj whitaker , xxmaj michael xxmaj xxunk , xxmaj dan xxmaj blocker , and even xxmaj guy xxmaj williams ( as the cousin who was brought in for several episodes during 1964 to replace xxmaj adam when he was leaving the series ) . xxmaj the cast had chemistry , and they</td>\n",
              "      <td>positive</td>\n",
              "      <td>positive</td>\n",
              "    </tr>\n",
              "  </tbody>\n",
              "</table>"
            ],
            "text/plain": [
              "<IPython.core.display.HTML object>"
            ]
          },
          "metadata": {
            "tags": []
          }
        }
      ]
    },
    {
      "cell_type": "code",
      "metadata": {
        "id": "xEsxn3Dh5Bek",
        "colab_type": "code",
        "colab": {
          "base_uri": "https://localhost:8080/",
          "height": 311
        },
        "outputId": "33ac1055-02e5-4c1e-8271-e1aab09fe6c7"
      },
      "source": [
        "preds, y, losses = learn_cl.get_preds(with_loss=True)\n",
        "interp = ClassificationInterpretation(learn_cl, preds, y, losses)\n",
        "interp.plot_confusion_matrix()"
      ],
      "execution_count": 21,
      "outputs": [
        {
          "output_type": "display_data",
          "data": {
            "text/html": [
              ""
            ],
            "text/plain": [
              "<IPython.core.display.HTML object>"
            ]
          },
          "metadata": {
            "tags": []
          }
        },
        {
          "output_type": "display_data",
          "data": {
            "image/png": "[encoded data removed]",
            "text/plain": [
              "<Figure size 432x288 with 1 Axes>"
            ]
          },
          "metadata": {
            "tags": [],
            "needs_background": "light"
          }
        }
      ]
    },
    {
      "cell_type": "markdown",
      "metadata": {
        "id": "KoK3ERry5Ben",
        "colab_type": "text"
      },
      "source": [
        "### Excercise\n",
        "Make sentiment predictions for 5 movie reviews from IMDB web site."
      ]
    },
    {
      "cell_type": "code",
      "metadata": {
        "id": "iyNQXe5E5Beo",
        "colab_type": "code",
        "colab": {
          "base_uri": "https://localhost:8080/",
          "height": 70
        },
        "outputId": "7aff0fbc-1728-4f02-fc21-4317071404dd"
      },
      "source": [
        "first_movie_review = learn.predict('This endlessly fascinating swirl ', 58)\n",
        "first_movie_review"
      ],
      "execution_count": 22,
      "outputs": [
        {
          "output_type": "execute_result",
          "data": {
            "application/vnd.google.colaboratory.intrinsic+json": {
              "type": "string"
            },
            "text/plain": [
              "'This endlessly fascinating swirl  may have been done obviously from a look at Lindsay Marie De Resources during the early nineties . The Cher music is realm of believable statements about the Australian Army , the capacity for typically dramatic war . Russian audiences have plenty of Bette Davis ,'"
            ]
          },
          "metadata": {
            "tags": []
          },
          "execution_count": 22
        }
      ]
    },
    {
      "cell_type": "code",
      "metadata": {
        "id": "yKsdJTcBjKcI",
        "colab_type": "code",
        "colab": {
          "base_uri": "https://localhost:8080/",
          "height": 55
        },
        "outputId": "26ea2638-fb8b-432f-e79f-95ae83e23147"
      },
      "source": [
        "real_first_movie_review = print('This endlessly fascinating swirl of a film could have come only from Nolan, who blends the cerebral twistiness of Memento (his thriller that moves backward in time) with the spectacular action of his Batman megahit, The Dark Knight')"
      ],
      "execution_count": 23,
      "outputs": [
        {
          "output_type": "stream",
          "text": [
            "This endlessly fascinating swirl of a film could have come only from Nolan, who blends the cerebral twistiness of Memento (his thriller that moves backward in time) with the spectacular action of his Batman megahit, The Dark Knight\n"
          ],
          "name": "stdout"
        }
      ]
    },
    {
      "cell_type": "code",
      "metadata": {
        "id": "njzv_MatgO-d",
        "colab_type": "code",
        "colab": {
          "base_uri": "https://localhost:8080/",
          "height": 35
        },
        "outputId": "d46895a4-df59-4a39-dcc1-a9aeda138bad"
      },
      "source": [
        "second_movie_quote= learn.predict('The greatest trick the Devil ever pulled', 14)\n",
        "second_movie_quote"
      ],
      "execution_count": 24,
      "outputs": [
        {
          "output_type": "execute_result",
          "data": {
            "application/vnd.google.colaboratory.intrinsic+json": {
              "type": "string"
            },
            "text/plain": [
              "'The greatest trick the Devil ever pulled out of the hands of an unknown man is the construction of a mine'"
            ]
          },
          "metadata": {
            "tags": []
          },
          "execution_count": 24
        }
      ]
    },
    {
      "cell_type": "code",
      "metadata": {
        "id": "uT2nPOXnoGAC",
        "colab_type": "code",
        "colab": {
          "base_uri": "https://localhost:8080/",
          "height": 35
        },
        "outputId": "843e83e2-709c-4da6-bffe-4bdd95eaef53"
      },
      "source": [
        "real_second_quote = print(\"The greatest trick the Devil ever pulled was convincing the world he didn't exist\")"
      ],
      "execution_count": 25,
      "outputs": [
        {
          "output_type": "stream",
          "text": [
            "The greatest trick the Devil ever pulled was convincing the world he didn't exist\n"
          ],
          "name": "stdout"
        }
      ]
    },
    {
      "cell_type": "code",
      "metadata": {
        "id": "Z9bQNzAWhIdK",
        "colab_type": "code",
        "colab": {
          "base_uri": "https://localhost:8080/",
          "height": 53
        },
        "outputId": "36442609-3db0-4445-a9ad-795efa79eb2f"
      },
      "source": [
        "third_movie_review = learn.predict('Overall, the film is one of a kind,',35)\n",
        "third_movie_review"
      ],
      "execution_count": 26,
      "outputs": [
        {
          "output_type": "execute_result",
          "data": {
            "application/vnd.google.colaboratory.intrinsic+json": {
              "type": "string"
            },
            "text/plain": [
              "'Overall, the film is one of a kind, the most wrenching \" took is what seems to be better . \" The time between This Night Rises and Grim Rain is n\\'t quite acceptable , and the'"
            ]
          },
          "metadata": {
            "tags": []
          },
          "execution_count": 26
        }
      ]
    },
    {
      "cell_type": "code",
      "metadata": {
        "id": "5EtA3QrOimrI",
        "colab_type": "code",
        "colab": {
          "base_uri": "https://localhost:8080/",
          "height": 55
        },
        "outputId": "975fb426-dbde-4538-bca1-fdd4e57b91c2"
      },
      "source": [
        "real_third_movie_review = print('Overall, the film is one of a kind, a masterpiece and a work of art so to speak. The superior musical score that accompanies the film heightens the suspense and adds to the mystery sequences.')"
      ],
      "execution_count": 27,
      "outputs": [
        {
          "output_type": "stream",
          "text": [
            "Overall, the film is one of a kind, a masterpiece and a work of art so to speak. The superior musical score that accompanies the film heightens the suspense and adds to the mystery sequences.\n"
          ],
          "name": "stdout"
        }
      ]
    },
    {
      "cell_type": "code",
      "metadata": {
        "id": "sQhLO_WDpTCd",
        "colab_type": "code",
        "colab": {
          "base_uri": "https://localhost:8080/",
          "height": 53
        },
        "outputId": "fa709325-2933-4889-b0a7-5a31e0a68e93"
      },
      "source": [
        "fourth_movie_review = learn.predict('Nolan masterfully weaves', 28)\n",
        "fourth_movie_review"
      ],
      "execution_count": 28,
      "outputs": [
        {
          "output_type": "execute_result",
          "data": {
            "application/vnd.google.colaboratory.intrinsic+json": {
              "type": "string"
            },
            "text/plain": [
              "\"Nolan masterfully weaves learn of his childhood , Cain 's father 's killing father ( from played by the father of the late 20th century , giants and fairy -\""
            ]
          },
          "metadata": {
            "tags": []
          },
          "execution_count": 28
        }
      ]
    },
    {
      "cell_type": "code",
      "metadata": {
        "id": "oT98BNADq6nP",
        "colab_type": "code",
        "colab": {
          "base_uri": "https://localhost:8080/",
          "height": 55
        },
        "outputId": "add37214-d1d1-4705-89cf-757526ba39fa"
      },
      "source": [
        "real_fourth_review = print('Nolan masterfully weaves all these elements together, creating a second act that is breathtaking, suspenseful and thought-provoking...unfortunately, it takes us a good hour for us to get there.')"
      ],
      "execution_count": 29,
      "outputs": [
        {
          "output_type": "stream",
          "text": [
            "Nolan masterfully weaves all these elements together, creating a second act that is breathtaking, suspenseful and thought-provoking...unfortunately, it takes us a good hour for us to get there.\n"
          ],
          "name": "stdout"
        }
      ]
    },
    {
      "cell_type": "code",
      "metadata": {
        "id": "Fc3_pEK5rCIK",
        "colab_type": "code",
        "colab": {
          "base_uri": "https://localhost:8080/",
          "height": 53
        },
        "outputId": "34a9f7c3-8ddf-4a89-ee65-60be35da5363"
      },
      "source": [
        "fifth_movie_review = learn.predict('Infused with',27)\n",
        "fifth_movie_review"
      ],
      "execution_count": 30,
      "outputs": [
        {
          "output_type": "execute_result",
          "data": {
            "application/vnd.google.colaboratory.intrinsic+json": {
              "type": "string"
            },
            "text/plain": [
              "\"Infused with language day are virtually impossible , because the beach is did n't have any examples . Means person to want to be deaf is totally confined\""
            ]
          },
          "metadata": {
            "tags": []
          },
          "execution_count": 30
        }
      ]
    },
    {
      "cell_type": "code",
      "metadata": {
        "id": "p41f_h4frrTR",
        "colab_type": "code",
        "colab": {
          "base_uri": "https://localhost:8080/",
          "height": 35
        },
        "outputId": "8ae6d7d8-0db5-4794-b68c-1382d955c4e6"
      },
      "source": [
        "real_fifth_movie_review = print('Infused with his trademark wit, the film is hilarious at times but also carries with it more complex undertones. Benjamin is a gorgeous little film.')"
      ],
      "execution_count": 31,
      "outputs": [
        {
          "output_type": "stream",
          "text": [
            "Infused with his trademark wit, the film is hilarious at times but also carries with it more complex undertones. Benjamin is a gorgeous little film.\n"
          ],
          "name": "stdout"
        }
      ]
    },
    {
      "cell_type": "code",
      "metadata": {
        "id": "Dq_845hvr22l",
        "colab_type": "code",
        "colab": {
          "base_uri": "https://localhost:8080/",
          "height": 35
        },
        "outputId": "1bb39089-99b1-4678-970c-3538ffb5c56d"
      },
      "source": [
        "fifth_movie_review_classifier = learn_cl.predict(fifth_movie_review)\n",
        "print(fifth_movie_review_classifier[2])"
      ],
      "execution_count": 32,
      "outputs": [
        {
          "output_type": "stream",
          "text": [
            "tensor([0.9737, 0.0263])\n"
          ],
          "name": "stdout"
        }
      ]
    },
    {
      "cell_type": "code",
      "metadata": {
        "id": "WGCWlqPghOSH",
        "colab_type": "code",
        "colab": {}
      },
      "source": [
        ""
      ],
      "execution_count": 32,
      "outputs": []
    }
  ]
}